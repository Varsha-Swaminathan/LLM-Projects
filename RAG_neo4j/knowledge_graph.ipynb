{
 "cells": [
  {
   "cell_type": "code",
   "execution_count": 1,
   "metadata": {},
   "outputs": [
    {
     "data": {
      "text/plain": [
       "True"
      ]
     },
     "execution_count": 1,
     "metadata": {},
     "output_type": "execute_result"
    }
   ],
   "source": [
    "from neo4j import GraphDatabase\n",
    "from dotenv import load_dotenv\n",
    "import os\n",
    "load_dotenv()"
   ]
  },
  {
   "cell_type": "code",
   "execution_count": 2,
   "metadata": {},
   "outputs": [],
   "source": [
    "AURA_INSTANCENAME=os.environ[\"AURA_INSTANCENAME\"]\n",
    "NEO4J_URI=os.environ[\"NEO4J_URI\"]\n",
    "NEO4J_USERNAME=os.environ[\"NEO4J_USERNAME\"]\n",
    "NEO4J_PASSWORD=os.environ[\"NEO4J_PASSWORD\"]\n",
    "NEO4J_DATABASE=os.environ[\"NEO4J_DATABASE\"]\n",
    "AUTH=(NEO4J_USERNAME, NEO4J_PASSWORD)"
   ]
  },
  {
   "cell_type": "code",
   "execution_count": 3,
   "metadata": {},
   "outputs": [],
   "source": [
    "driver=GraphDatabase.driver(NEO4J_URI, auth=AUTH, database=NEO4J_DATABASE)"
   ]
  },
  {
   "cell_type": "code",
   "execution_count": 6,
   "metadata": {},
   "outputs": [],
   "source": [
    "def connect_and_query():\n",
    "    try:\n",
    "        with driver.session(database=NEO4J_DATABASE) as session:\n",
    "            result=session.run(\"MATCH (n) RETURN count(n)\")\n",
    "            count=result.single().value()\n",
    "            print(f\"Number of nodes: {count}\")\n",
    "    except Exception as e:\n",
    "        print(f\"Error: {e}\")\n",
    "    finally:\n",
    "        driver.close()"
   ]
  },
  {
   "cell_type": "code",
   "execution_count": 7,
   "metadata": {},
   "outputs": [
    {
     "name": "stderr",
     "output_type": "stream",
     "text": [
      "C:\\Users\\varsh\\AppData\\Local\\Temp\\ipykernel_18516\\3985270811.py:3: DeprecationWarning: Using a driver after it has been closed is deprecated. Future versions of the driver will raise an error.\n",
      "  with driver.session(database=NEO4J_DATABASE) as session:\n"
     ]
    },
    {
     "name": "stdout",
     "output_type": "stream",
     "text": [
      "Number of nodes: 5\n"
     ]
    }
   ],
   "source": [
    "connect_and_query()"
   ]
  },
  {
   "cell_type": "code",
   "execution_count": 23,
   "metadata": {},
   "outputs": [],
   "source": [
    "def create_entities(tx):\n",
    "    tx.run(\"MERGE (a:Person {name: 'Albert Einstein'})\")\n",
    "    \n",
    "    tx.run(\"MERGE (p:Subject {name: 'Physics'})\")\n",
    "    tx.run(\"MERGE (n:NobelPrize {name: 'Nobel Prize in Physics'})\")\n",
    "    tx.run(\"MERGE (g:Country {name: 'Germany'})\")\n",
    "    tx.run(\"MERGE (u:Country {name: 'USA'})\")"
   ]
  },
  {
   "cell_type": "code",
   "execution_count": 21,
   "metadata": {},
   "outputs": [],
   "source": [
    "def create_relationships(tx):\n",
    "    tx.run(\n",
    "        \"\"\"\n",
    "        MATCH (a:Person{name: 'Albert Einstein'}), (p: Subject {name:'Physics'})\n",
    "        MERGE (a)-[:STUDIED]->(p)\n",
    "        \"\"\"\n",
    "    )\n",
    "    \n",
    "    tx.run(\n",
    "        \"\"\"\n",
    "        MATCH (a:Person{name: 'Albert Einstein'}), (n: NobelPrize {name:'Nobel Prize in Physics'})\n",
    "        MERGE (a)-[:WON]->(n)\n",
    "        \"\"\"\n",
    "    )\n",
    "    \n",
    "    tx.run(\n",
    "        \"\"\"\n",
    "        MATCH (a:Person{name: 'Albert Einstein'}), (g: Country {name:'Germany'})\n",
    "        MERGE (a)-[:BORN_IN]->(g)\n",
    "        \"\"\"\n",
    "    )\n",
    "    \n",
    "    tx.run(\n",
    "        \"\"\"\n",
    "        MATCH (a:Person{name: 'Albert Einstein'}), (u: Country {name:'USA'})\n",
    "        MERGE (a)-[:DIED_IN]->(u)\n",
    "        \"\"\"\n",
    "    )"
   ]
  },
  {
   "cell_type": "code",
   "execution_count": 9,
   "metadata": {},
   "outputs": [],
   "source": [
    "#Function to connect and run a simple cypher query\n",
    "def query_graph_simple(cypher_query):\n",
    "    driver=GraphDatabase.driver(NEO4J_URI, auth=AUTH)\n",
    "    try:\n",
    "        with driver.session(database=NEO4J_DATABASE) as session:\n",
    "            result=session.run(cypher_query)\n",
    "            for record in result:\n",
    "                print(record[\"name\"])\n",
    "    except Exception as e:\n",
    "        print(f\"Error: {e}\")\n",
    "    finally:\n",
    "        driver.close()"
   ]
  },
  {
   "cell_type": "code",
   "execution_count": 10,
   "metadata": {},
   "outputs": [],
   "source": [
    "#Function to connect and run a simple cypher query\n",
    "def query_graph(cypher_query):\n",
    "    driver=GraphDatabase.driver(NEO4J_URI, auth=AUTH)\n",
    "    try:\n",
    "        with driver.session(database=NEO4J_DATABASE) as session:\n",
    "            result=session.run(cypher_query)\n",
    "            for record in result:\n",
    "                print(record[\"path\"])\n",
    "    except Exception as e:\n",
    "        print(f\"Error: {e}\")\n",
    "    finally:\n",
    "        driver.close()"
   ]
  },
  {
   "cell_type": "code",
   "execution_count": 18,
   "metadata": {},
   "outputs": [],
   "source": [
    "def build_knowledge_graph():\n",
    "    try:\n",
    "        with driver.session(database=NEO4J_DATABASE) as session:\n",
    "            session.execute_write(create_entities)\n",
    "            session.execute_write(create_relationships)\n",
    "    except Exception as e:\n",
    "        print(f\"Error: {e}\")\n",
    "    finally:\n",
    "        driver.close()"
   ]
  },
  {
   "cell_type": "code",
   "execution_count": 24,
   "metadata": {},
   "outputs": [
    {
     "name": "stderr",
     "output_type": "stream",
     "text": [
      "C:\\Users\\varsh\\AppData\\Local\\Temp\\ipykernel_24512\\2974030905.py:3: DeprecationWarning: Using a driver after it has been closed is deprecated. Future versions of the driver will raise an error.\n",
      "  with driver.session(database=NEO4J_DATABASE) as session:\n"
     ]
    }
   ],
   "source": [
    "build_knowledge_graph()"
   ]
  },
  {
   "cell_type": "code",
   "execution_count": 11,
   "metadata": {},
   "outputs": [
    {
     "name": "stdout",
     "output_type": "stream",
     "text": [
      "Albert Einstein\n",
      "Physics\n",
      "Nobel Prize in Physics\n",
      "Germany\n",
      "USA\n"
     ]
    }
   ],
   "source": [
    "simple_query=\"\"\"\n",
    "MATCH (n) RETURN n.name AS name\n",
    "\"\"\"\n",
    "\n",
    "query_graph_simple(simple_query)"
   ]
  },
  {
   "cell_type": "code",
   "execution_count": null,
   "metadata": {},
   "outputs": [],
   "source": []
  },
  {
   "cell_type": "code",
   "execution_count": null,
   "metadata": {},
   "outputs": [],
   "source": []
  },
  {
   "cell_type": "code",
   "execution_count": null,
   "metadata": {},
   "outputs": [],
   "source": []
  },
  {
   "cell_type": "code",
   "execution_count": null,
   "metadata": {},
   "outputs": [],
   "source": []
  },
  {
   "cell_type": "code",
   "execution_count": null,
   "metadata": {},
   "outputs": [],
   "source": []
  },
  {
   "cell_type": "code",
   "execution_count": null,
   "metadata": {},
   "outputs": [],
   "source": []
  },
  {
   "cell_type": "code",
   "execution_count": null,
   "metadata": {},
   "outputs": [],
   "source": []
  },
  {
   "cell_type": "code",
   "execution_count": null,
   "metadata": {},
   "outputs": [],
   "source": []
  }
 ],
 "metadata": {
  "kernelspec": {
   "display_name": ".venv",
   "language": "python",
   "name": "python3"
  },
  "language_info": {
   "codemirror_mode": {
    "name": "ipython",
    "version": 3
   },
   "file_extension": ".py",
   "mimetype": "text/x-python",
   "name": "python",
   "nbconvert_exporter": "python",
   "pygments_lexer": "ipython3",
   "version": "3.12.3"
  }
 },
 "nbformat": 4,
 "nbformat_minor": 2
}
