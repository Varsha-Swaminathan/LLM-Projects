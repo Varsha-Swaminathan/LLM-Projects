{
 "cells": [
  {
   "cell_type": "code",
   "execution_count": 21,
   "metadata": {},
   "outputs": [
    {
     "data": {
      "text/plain": [
       "True"
      ]
     },
     "execution_count": 21,
     "metadata": {},
     "output_type": "execute_result"
    }
   ],
   "source": [
    "import os\n",
    "from langchain.text_splitter import CharacterTextSplitter\n",
    "from langchain_community.document_loaders import TextLoader, DirectoryLoader\n",
    "from langchain_community.vectorstores import Chroma\n",
    "from langchain_community.embeddings import HuggingFaceEmbeddings\n",
    "from dotenv import load_dotenv\n",
    "from langchain_groq import ChatGroq\n",
    "from langchain.memory import ConversationBufferMemory\n",
    "from langchain.chains import ConversationalRetrievalChain\n",
    "load_dotenv()"
   ]
  },
  {
   "cell_type": "code",
   "execution_count": 2,
   "metadata": {},
   "outputs": [],
   "source": [
    "llm=ChatGroq(model='llama-3.1-70b-versatile')"
   ]
  },
  {
   "cell_type": "code",
   "execution_count": 3,
   "metadata": {},
   "outputs": [],
   "source": [
    "from langchain.schema import Document\n",
    "from langchain_chroma import Chroma\n",
    "import numpy as np\n",
    "from sklearn.manifold import TSNE\n",
    "import plotly.graph_objects as go\n",
    "import os\n",
    "import glob"
   ]
  },
  {
   "cell_type": "code",
   "execution_count": 4,
   "metadata": {},
   "outputs": [],
   "source": [
    "# model=ChatGroq(model='llama-3.1-70b-versatile')\n",
    "db_name=\"vector_db\""
   ]
  },
  {
   "cell_type": "code",
   "execution_count": 5,
   "metadata": {},
   "outputs": [
    {
     "name": "stdout",
     "output_type": "stream",
     "text": [
      "knowledge_base\\company\n",
      "knowledge_base\\contracts\n",
      "knowledge_base\\employees\n",
      "knowledge_base\\products\n"
     ]
    }
   ],
   "source": [
    "# folders = r'C:\\Users\\varsh\\Documents\\AI\\LLM\\RAG_youtube_langchain\\*'\n",
    "folders=glob.glob(\"knowledge_base/*\")\n",
    "\n",
    "documents=[]\n",
    "for folder in folders:\n",
    "    print(folder)\n",
    "    doc_type=os.path.basename(folder)\n",
    "    loader=DirectoryLoader(folder, glob=\"**/*.md\", loader_cls=TextLoader,loader_kwargs={'encoding': 'utf-8'})\n",
    "    folder_docs=loader.load()\n",
    "    for doc in folder_docs:\n",
    "        doc.metadata[\"doc_type\"]=doc_type\n",
    "        documents.append(doc)"
   ]
  },
  {
   "cell_type": "code",
   "execution_count": 6,
   "metadata": {},
   "outputs": [],
   "source": [
    "# documents"
   ]
  },
  {
   "cell_type": "code",
   "execution_count": 7,
   "metadata": {},
   "outputs": [
    {
     "name": "stderr",
     "output_type": "stream",
     "text": [
      "Created a chunk of size 1088, which is longer than the specified 1000\n"
     ]
    }
   ],
   "source": [
    "text_splitter=CharacterTextSplitter(chunk_size=1000, chunk_overlap=200)\n",
    "chunks=text_splitter.split_documents(documents)"
   ]
  },
  {
   "cell_type": "code",
   "execution_count": 8,
   "metadata": {},
   "outputs": [
    {
     "data": {
      "text/plain": [
       "123"
      ]
     },
     "execution_count": 8,
     "metadata": {},
     "output_type": "execute_result"
    }
   ],
   "source": [
    "len(chunks)"
   ]
  },
  {
   "cell_type": "code",
   "execution_count": 9,
   "metadata": {},
   "outputs": [
    {
     "name": "stdout",
     "output_type": "stream",
     "text": [
      "Document types found: products, contracts, company, employees\n"
     ]
    }
   ],
   "source": [
    "doc_types=set(chunk.metadata['doc_type'] for chunk in chunks)\n",
    "print(f\"Document types found: {', '.join(doc_types)}\")"
   ]
  },
  {
   "cell_type": "code",
   "execution_count": 10,
   "metadata": {},
   "outputs": [
    {
     "name": "stderr",
     "output_type": "stream",
     "text": [
      "C:\\Users\\varsh\\AppData\\Local\\Temp\\ipykernel_14864\\656995169.py:3: LangChainDeprecationWarning: The class `HuggingFaceEmbeddings` was deprecated in LangChain 0.2.2 and will be removed in 1.0. An updated version of the class exists in the :class:`~langchain-huggingface package and should be used instead. To use it run `pip install -U :class:`~langchain-huggingface` and import as `from :class:`~langchain_huggingface import HuggingFaceEmbeddings``.\n",
      "  embeddings = HuggingFaceEmbeddings(model_name=model_name, model_kwargs=model_kwargs)\n",
      "c:\\Users\\varsh\\Documents\\AI\\LLM\\.venv\\Lib\\site-packages\\sentence_transformers\\cross_encoder\\CrossEncoder.py:13: TqdmWarning: IProgress not found. Please update jupyter and ipywidgets. See https://ipywidgets.readthedocs.io/en/stable/user_install.html\n",
      "  from tqdm.autonotebook import tqdm, trange\n"
     ]
    }
   ],
   "source": [
    "model_name=\"sentence-transformers/all-mpnet-base-v2\"\n",
    "model_kwargs={\"device\": \"cpu\"}\n",
    "embeddings = HuggingFaceEmbeddings(model_name=model_name, model_kwargs=model_kwargs)\n",
    "if os.path.exists(db_name):\n",
    "    Chroma(persist_directory=db_name, embedding_function=embeddings).delete_collection()"
   ]
  },
  {
   "cell_type": "code",
   "execution_count": 11,
   "metadata": {},
   "outputs": [
    {
     "name": "stdout",
     "output_type": "stream",
     "text": [
      "Vectorstore created with 123 documents\n"
     ]
    }
   ],
   "source": [
    "vectorstore=Chroma.from_documents(documents=chunks, embedding=embeddings, persist_directory=db_name)\n",
    "print(f\"Vectorstore created with {vectorstore._collection.count()} documents\")"
   ]
  },
  {
   "cell_type": "code",
   "execution_count": 12,
   "metadata": {},
   "outputs": [
    {
     "name": "stdout",
     "output_type": "stream",
     "text": [
      "The vectors have 768 dimensions\n"
     ]
    }
   ],
   "source": [
    "#get one vector and find how many dimensions it has\n",
    "\n",
    "collection=vectorstore._collection\n",
    "sample_embedding=collection.get(limit=1, include=['embeddings'])['embeddings'][0]\n",
    "dimensions=len(sample_embedding)\n",
    "print(f\"The vectors have {dimensions:,} dimensions\")"
   ]
  },
  {
   "cell_type": "code",
   "execution_count": 13,
   "metadata": {},
   "outputs": [],
   "source": [
    "# sample_embedding\n",
    "# collection"
   ]
  },
  {
   "cell_type": "markdown",
   "metadata": {},
   "source": [
    "# Visualizing vector store"
   ]
  },
  {
   "cell_type": "code",
   "execution_count": 14,
   "metadata": {},
   "outputs": [],
   "source": [
    "result=collection.get(include=['embeddings','documents','metadatas'])\n",
    "vectors=np.array(result['embeddings'])\n",
    "doc_types=[metadata['doc_type'] for metadata in result['metadatas']]\n",
    "colors=[['blue','green','red','orange'][['products','employees','contracts','company'].index(t)] for t in doc_types]"
   ]
  },
  {
   "cell_type": "code",
   "execution_count": 15,
   "metadata": {},
   "outputs": [
    {
     "data": {
      "application/vnd.plotly.v1+json": {
       "config": {
        "plotlyServerURL": "https://plot.ly"
       },
       "data": [
        {
         "hoverinfo": "text",
         "marker": {
          "color": [
           "orange",
           "orange",
           "orange",
           "red",
           "red",
           "red",
           "red",
           "red",
           "red",
           "red",
           "red",
           "red",
           "red",
           "red",
           "red",
           "red",
           "red",
           "red",
           "red",
           "red",
           "red",
           "red",
           "red",
           "red",
           "red",
           "red",
           "red",
           "red",
           "red",
           "red",
           "red",
           "red",
           "red",
           "red",
           "red",
           "red",
           "red",
           "red",
           "red",
           "red",
           "red",
           "red",
           "red",
           "red",
           "red",
           "red",
           "red",
           "red",
           "red",
           "red",
           "red",
           "red",
           "red",
           "red",
           "red",
           "green",
           "green",
           "green",
           "green",
           "green",
           "green",
           "green",
           "green",
           "green",
           "green",
           "green",
           "green",
           "green",
           "green",
           "green",
           "green",
           "green",
           "green",
           "green",
           "green",
           "green",
           "green",
           "green",
           "green",
           "green",
           "green",
           "green",
           "green",
           "green",
           "green",
           "green",
           "green",
           "green",
           "green",
           "green",
           "green",
           "green",
           "green",
           "green",
           "green",
           "green",
           "green",
           "green",
           "green",
           "green",
           "green",
           "green",
           "blue",
           "blue",
           "blue",
           "blue",
           "blue",
           "blue",
           "blue",
           "blue",
           "blue",
           "blue",
           "blue",
           "blue",
           "blue",
           "blue",
           "blue",
           "blue",
           "blue",
           "blue",
           "blue",
           "blue",
           "blue"
          ],
          "opacity": 0.8,
          "size": 5
         },
         "mode": "markers",
         "text": [
          "Type: company<br>Text: page_content='# About Insurellm\n\nInsurellm was founded by Avery Lancaster in 2015 as an insurance te...",
          "Type: company<br>Text: page_content='# Careers at Insurellm\n\nInsurellm is hiring! We are looking for talented software engi...",
          "Type: company<br>Text: page_content='# Overview of Insurellm\n\nInsurellm is an innovative insurance tech firm with 200 emplo...",
          "Type: contracts<br>Text: page_content='# Contract with Apex Reinsurance for Rellm: AI-Powered Enterprise Reinsurance Solution...",
          "Type: contracts<br>Text: page_content='# Contract with Belvedere Insurance for Markellm\n\n## Terms\nThis Contract (\"Agreement\")...",
          "Type: contracts<br>Text: page_content='# Contract with BrightWay Solutions for Markellm\n\n**Contract Date:** October 5, 2023  ...",
          "Type: contracts<br>Text: page_content='# Contract with EverGuard Insurance for Rellm: AI-Powered Enterprise Reinsurance Solut...",
          "Type: contracts<br>Text: page_content='# Contract with GreenField Holdings for Markellm\n\n**Effective Date:** November 15, 202...",
          "Type: contracts<br>Text: page_content='# Contract with Greenstone Insurance for Homellm\n\n---\n\n## Terms\n\n1. **Parties**: This ...",
          "Type: contracts<br>Text: page_content='# Contract with GreenValley Insurance for Homellm\n\n**Contract Date:** October 6, 2023 ...",
          "Type: contracts<br>Text: page_content='# Contract with Pinnacle Insurance Co. for Homellm\n\n## Terms\nThis contract (\"Contract\"...",
          "Type: contracts<br>Text: page_content='# Contract with Roadway Insurance Inc. for Carllm\n\n---\n\n## Terms\n\n1. **Agreement Effec...",
          "Type: contracts<br>Text: page_content='# Contract with Stellar Insurance Co. for Rellm\n\n## Terms\nThis contract is made betwee...",
          "Type: contracts<br>Text: page_content='# Contract with TechDrive Insurance for Carllm\n\n**Contract Date:** October 1, 2024  \n*...",
          "Type: contracts<br>Text: page_content='# Contract with Velocity Auto Solutions for Carllm\n\n**Contract Date:** October 1, 2023...",
          "Type: contracts<br>Text: page_content='# HR Record\n\n# Alex Chen\n\n## Summary\n- **Date of Birth:** March 15, 1990  \n- **Job Tit...",
          "Type: contracts<br>Text: page_content='# HR Record\n\n# Alex Harper\n\n## Summary\n- **Date of Birth**: March 15, 1993  \n- **Job T...",
          "Type: contracts<br>Text: page_content='# HR Record\n\n# Alex Thomson\n\n## Summary\n- **Date of Birth:** March 15, 1995  \n- **Job ...",
          "Type: contracts<br>Text: page_content='# Avery Lancaster\n\n## Summary\n- **Date of Birth**: March 15, 1985  \n- **Job Title**: C...",
          "Type: contracts<br>Text: page_content='# HR Record\n\n# Emily Carter\n\n## Summary\n- **Date of Birth:** August 12, 1990  \n- **Job...",
          "Type: contracts<br>Text: page_content='# HR Record\n\n# Emily Tran\n\n## Summary\n- **Date of Birth:** March 18, 1991  \n- **Job Ti...",
          "Type: contracts<br>Text: page_content='# HR Record\n\n# Jordan Blake\n\n## Summary\n- **Date of Birth:** March 15, 1993  \n- **Job ...",
          "Type: contracts<br>Text: page_content='# HR Record\n\n# Jordan K. Bishop\n\n## Summary\n- **Date of Birth:** March 15, 1990\n- **Jo...",
          "Type: contracts<br>Text: page_content='# HR Record\n\n# Maxine Thompson\n\n## Summary\n- **Date of Birth:** January 15, 1991  \n- *...",
          "Type: contracts<br>Text: page_content='# HR Record\n\n# Oliver Spencer\n\n## Summary\n- **Date of Birth**: May 14, 1990  \n- **Job ...",
          "Type: contracts<br>Text: page_content='# Samantha Greene\n\n## Summary\n- **Date of Birth:** October 14, 1990\n- **Job Title:** H...",
          "Type: contracts<br>Text: page_content='# HR Record\n\n# Samuel Trenton\n\n## Summary\n- **Date of Birth:** April 12, 1989  \n- **Jo...",
          "Type: contracts<br>Text: page_content='# Product Summary\n\n# Carllm\n\n## Summary\n\nCarllm is an innovative auto insurance produc...",
          "Type: contracts<br>Text: page_content='# Product Summary\n\n# Homellm\n\n## Summary\nHomellm is an innovative home insurance produ...",
          "Type: contracts<br>Text: page_content='# Product Summary\n\n# Markellm\n\n## Summary\n\nMarkellm is an innovative two-sided marketp...",
          "Type: contracts<br>Text: page_content='# Product Summary\n\n# Rellm: AI-Powered Enterprise Reinsurance Solution\n\n## Summary\n\nRe..."
         ],
         "type": "scatter",
         "x": [
          0.95970577,
          1.8932981,
          0.694596,
          -2.55977,
          -2.5704825,
          -3.9525404,
          -3.9763474,
          1.3410666,
          -5.118071,
          -3.6409924,
          -2.8529122,
          -4.3617263,
          -3.9126694,
          -5.5524793,
          -5.885334,
          -6.1983695,
          -5.3733916,
          -2.0169613,
          -1.8086765,
          -1.4220119,
          -1.4094323,
          -0.54580694,
          -4.3186603,
          -3.4771311,
          -1.6861576,
          -5.5328574,
          1.6335782,
          -7.0832253,
          -8.339305,
          -5.4415827,
          -6.5771384,
          -8.109994,
          -7.2136865,
          -6.549065,
          -5.648789,
          -5.9700513,
          -6.102854,
          -3.4859607,
          -5.012785,
          -5.5499177,
          -1.666253,
          -2.6432807,
          -0.49981448,
          0.2985474,
          -3.0133874,
          -3.097889,
          -1.83268,
          -2.7055836,
          -1.0706288,
          -0.054657575,
          0.63456416,
          1.0291015,
          -1.2723097,
          -0.772059,
          -0.13119172,
          5.841123,
          12.519932,
          10.628962,
          4.4594455,
          7.709224,
          12.593636,
          12.810047,
          7.8001714,
          12.214756,
          7.8550196,
          4.3383775,
          5.145297,
          5.8956623,
          5.2988744,
          13.060057,
          5.285858,
          8.72545,
          10.007732,
          11.645833,
          8.264152,
          8.276591,
          8.917181,
          11.365381,
          8.296381,
          7.8618636,
          9.972135,
          6.9697385,
          6.5535855,
          12.188875,
          12.399287,
          6.5528035,
          8.101029,
          6.6672707,
          11.399254,
          7.0265594,
          11.522129,
          6.1621737,
          12.073254,
          10.715717,
          9.530347,
          10.567142,
          10.534629,
          9.642792,
          6.795678,
          12.168153,
          11.967165,
          11.905909,
          1.9728295,
          1.5310155,
          1.1931792,
          1.3369386,
          2.1734493,
          -6.2806706,
          -6.3367777,
          -7.2674704,
          -8.093009,
          -7.061759,
          -7.6044927,
          -2.6059752,
          -2.8673131,
          -4.2238517,
          -4.14086,
          -2.400374,
          -0.94207126,
          -1.442202,
          -3.07971,
          -0.6974389,
          -0.17178397
         ],
         "y": [
          -1.3302006,
          -0.75234413,
          -0.23493606,
          2.7447832,
          3.4469197,
          3.1332517,
          3.0340588,
          1.5941007,
          -1.3476138,
          9.890054,
          -1.4795535,
          1.0411474,
          0.18158558,
          -0.9147641,
          0.4000216,
          -0.6599179,
          -0.045626286,
          2.393273,
          1.475538,
          1.6296852,
          1.4706231,
          1.0830042,
          -0.80929875,
          9.68276,
          -1.2769899,
          -2.6943705,
          1.5466025,
          2.1499379,
          3.1657324,
          5.2801547,
          2.520921,
          1.320599,
          2.462601,
          3.5011716,
          4.189826,
          3.6443906,
          2.0754983,
          9.66957,
          5.7668586,
          2.3462293,
          7.662814,
          8.9088545,
          5.10988,
          6.37521,
          5.0673933,
          5.351266,
          3.889049,
          4.351397,
          7.7966123,
          7.523656,
          7.1688886,
          7.546097,
          7.1860623,
          6.604805,
          6.52813,
          -4.428866,
          -2.9658475,
          -6.262549,
          -3.6159225,
          -4.282735,
          -4.9096313,
          -5.4431186,
          -4.9940653,
          -5.413897,
          -5.3883986,
          -1.6544904,
          -1.1977046,
          -1.0617782,
          -0.9674991,
          -6.5780544,
          -2.0662131,
          -3.4850934,
          -2.2749178,
          -6.0390635,
          -0.8562733,
          -2.7254558,
          -2.4650288,
          -4.814023,
          -1.8389553,
          -4.283181,
          -5.729536,
          -6.207564,
          -4.777381,
          -2.6928053,
          -7.396772,
          -5.7332907,
          -7.603899,
          -2.9156642,
          -2.7602553,
          -2.1754313,
          -7.422508,
          -4.2600064,
          -3.082141,
          -6.3592005,
          -4.508544,
          -3.6468122,
          -7.35346,
          -6.271789,
          -3.4755542,
          -4.5326467,
          -6.8024197,
          -1.3477659,
          4.480758,
          4.306433,
          5.2335777,
          5.546853,
          5.432782,
          5.5350285,
          5.5982857,
          4.7141466,
          4.4593506,
          6.255138,
          5.3550715,
          -2.4875166,
          -2.7298717,
          -2.9389634,
          -2.8264692,
          -2.389556,
          3.5669844,
          3.3067887,
          2.5635567,
          3.1135573,
          2.694813
         ]
        }
       ],
       "layout": {
        "height": 600,
        "margin": {
         "b": 10,
         "l": 10,
         "r": 20,
         "t": 40
        },
        "scene": {
         "xaxis": {
          "title": {
           "text": "x"
          }
         },
         "yaxis": {
          "title": {
           "text": "y"
          }
         }
        },
        "template": {
         "data": {
          "bar": [
           {
            "error_x": {
             "color": "#2a3f5f"
            },
            "error_y": {
             "color": "#2a3f5f"
            },
            "marker": {
             "line": {
              "color": "#E5ECF6",
              "width": 0.5
             },
             "pattern": {
              "fillmode": "overlay",
              "size": 10,
              "solidity": 0.2
             }
            },
            "type": "bar"
           }
          ],
          "barpolar": [
           {
            "marker": {
             "line": {
              "color": "#E5ECF6",
              "width": 0.5
             },
             "pattern": {
              "fillmode": "overlay",
              "size": 10,
              "solidity": 0.2
             }
            },
            "type": "barpolar"
           }
          ],
          "carpet": [
           {
            "aaxis": {
             "endlinecolor": "#2a3f5f",
             "gridcolor": "white",
             "linecolor": "white",
             "minorgridcolor": "white",
             "startlinecolor": "#2a3f5f"
            },
            "baxis": {
             "endlinecolor": "#2a3f5f",
             "gridcolor": "white",
             "linecolor": "white",
             "minorgridcolor": "white",
             "startlinecolor": "#2a3f5f"
            },
            "type": "carpet"
           }
          ],
          "choropleth": [
           {
            "colorbar": {
             "outlinewidth": 0,
             "ticks": ""
            },
            "type": "choropleth"
           }
          ],
          "contour": [
           {
            "colorbar": {
             "outlinewidth": 0,
             "ticks": ""
            },
            "colorscale": [
             [
              0,
              "#0d0887"
             ],
             [
              0.1111111111111111,
              "#46039f"
             ],
             [
              0.2222222222222222,
              "#7201a8"
             ],
             [
              0.3333333333333333,
              "#9c179e"
             ],
             [
              0.4444444444444444,
              "#bd3786"
             ],
             [
              0.5555555555555556,
              "#d8576b"
             ],
             [
              0.6666666666666666,
              "#ed7953"
             ],
             [
              0.7777777777777778,
              "#fb9f3a"
             ],
             [
              0.8888888888888888,
              "#fdca26"
             ],
             [
              1,
              "#f0f921"
             ]
            ],
            "type": "contour"
           }
          ],
          "contourcarpet": [
           {
            "colorbar": {
             "outlinewidth": 0,
             "ticks": ""
            },
            "type": "contourcarpet"
           }
          ],
          "heatmap": [
           {
            "colorbar": {
             "outlinewidth": 0,
             "ticks": ""
            },
            "colorscale": [
             [
              0,
              "#0d0887"
             ],
             [
              0.1111111111111111,
              "#46039f"
             ],
             [
              0.2222222222222222,
              "#7201a8"
             ],
             [
              0.3333333333333333,
              "#9c179e"
             ],
             [
              0.4444444444444444,
              "#bd3786"
             ],
             [
              0.5555555555555556,
              "#d8576b"
             ],
             [
              0.6666666666666666,
              "#ed7953"
             ],
             [
              0.7777777777777778,
              "#fb9f3a"
             ],
             [
              0.8888888888888888,
              "#fdca26"
             ],
             [
              1,
              "#f0f921"
             ]
            ],
            "type": "heatmap"
           }
          ],
          "heatmapgl": [
           {
            "colorbar": {
             "outlinewidth": 0,
             "ticks": ""
            },
            "colorscale": [
             [
              0,
              "#0d0887"
             ],
             [
              0.1111111111111111,
              "#46039f"
             ],
             [
              0.2222222222222222,
              "#7201a8"
             ],
             [
              0.3333333333333333,
              "#9c179e"
             ],
             [
              0.4444444444444444,
              "#bd3786"
             ],
             [
              0.5555555555555556,
              "#d8576b"
             ],
             [
              0.6666666666666666,
              "#ed7953"
             ],
             [
              0.7777777777777778,
              "#fb9f3a"
             ],
             [
              0.8888888888888888,
              "#fdca26"
             ],
             [
              1,
              "#f0f921"
             ]
            ],
            "type": "heatmapgl"
           }
          ],
          "histogram": [
           {
            "marker": {
             "pattern": {
              "fillmode": "overlay",
              "size": 10,
              "solidity": 0.2
             }
            },
            "type": "histogram"
           }
          ],
          "histogram2d": [
           {
            "colorbar": {
             "outlinewidth": 0,
             "ticks": ""
            },
            "colorscale": [
             [
              0,
              "#0d0887"
             ],
             [
              0.1111111111111111,
              "#46039f"
             ],
             [
              0.2222222222222222,
              "#7201a8"
             ],
             [
              0.3333333333333333,
              "#9c179e"
             ],
             [
              0.4444444444444444,
              "#bd3786"
             ],
             [
              0.5555555555555556,
              "#d8576b"
             ],
             [
              0.6666666666666666,
              "#ed7953"
             ],
             [
              0.7777777777777778,
              "#fb9f3a"
             ],
             [
              0.8888888888888888,
              "#fdca26"
             ],
             [
              1,
              "#f0f921"
             ]
            ],
            "type": "histogram2d"
           }
          ],
          "histogram2dcontour": [
           {
            "colorbar": {
             "outlinewidth": 0,
             "ticks": ""
            },
            "colorscale": [
             [
              0,
              "#0d0887"
             ],
             [
              0.1111111111111111,
              "#46039f"
             ],
             [
              0.2222222222222222,
              "#7201a8"
             ],
             [
              0.3333333333333333,
              "#9c179e"
             ],
             [
              0.4444444444444444,
              "#bd3786"
             ],
             [
              0.5555555555555556,
              "#d8576b"
             ],
             [
              0.6666666666666666,
              "#ed7953"
             ],
             [
              0.7777777777777778,
              "#fb9f3a"
             ],
             [
              0.8888888888888888,
              "#fdca26"
             ],
             [
              1,
              "#f0f921"
             ]
            ],
            "type": "histogram2dcontour"
           }
          ],
          "mesh3d": [
           {
            "colorbar": {
             "outlinewidth": 0,
             "ticks": ""
            },
            "type": "mesh3d"
           }
          ],
          "parcoords": [
           {
            "line": {
             "colorbar": {
              "outlinewidth": 0,
              "ticks": ""
             }
            },
            "type": "parcoords"
           }
          ],
          "pie": [
           {
            "automargin": true,
            "type": "pie"
           }
          ],
          "scatter": [
           {
            "fillpattern": {
             "fillmode": "overlay",
             "size": 10,
             "solidity": 0.2
            },
            "type": "scatter"
           }
          ],
          "scatter3d": [
           {
            "line": {
             "colorbar": {
              "outlinewidth": 0,
              "ticks": ""
             }
            },
            "marker": {
             "colorbar": {
              "outlinewidth": 0,
              "ticks": ""
             }
            },
            "type": "scatter3d"
           }
          ],
          "scattercarpet": [
           {
            "marker": {
             "colorbar": {
              "outlinewidth": 0,
              "ticks": ""
             }
            },
            "type": "scattercarpet"
           }
          ],
          "scattergeo": [
           {
            "marker": {
             "colorbar": {
              "outlinewidth": 0,
              "ticks": ""
             }
            },
            "type": "scattergeo"
           }
          ],
          "scattergl": [
           {
            "marker": {
             "colorbar": {
              "outlinewidth": 0,
              "ticks": ""
             }
            },
            "type": "scattergl"
           }
          ],
          "scattermapbox": [
           {
            "marker": {
             "colorbar": {
              "outlinewidth": 0,
              "ticks": ""
             }
            },
            "type": "scattermapbox"
           }
          ],
          "scatterpolar": [
           {
            "marker": {
             "colorbar": {
              "outlinewidth": 0,
              "ticks": ""
             }
            },
            "type": "scatterpolar"
           }
          ],
          "scatterpolargl": [
           {
            "marker": {
             "colorbar": {
              "outlinewidth": 0,
              "ticks": ""
             }
            },
            "type": "scatterpolargl"
           }
          ],
          "scatterternary": [
           {
            "marker": {
             "colorbar": {
              "outlinewidth": 0,
              "ticks": ""
             }
            },
            "type": "scatterternary"
           }
          ],
          "surface": [
           {
            "colorbar": {
             "outlinewidth": 0,
             "ticks": ""
            },
            "colorscale": [
             [
              0,
              "#0d0887"
             ],
             [
              0.1111111111111111,
              "#46039f"
             ],
             [
              0.2222222222222222,
              "#7201a8"
             ],
             [
              0.3333333333333333,
              "#9c179e"
             ],
             [
              0.4444444444444444,
              "#bd3786"
             ],
             [
              0.5555555555555556,
              "#d8576b"
             ],
             [
              0.6666666666666666,
              "#ed7953"
             ],
             [
              0.7777777777777778,
              "#fb9f3a"
             ],
             [
              0.8888888888888888,
              "#fdca26"
             ],
             [
              1,
              "#f0f921"
             ]
            ],
            "type": "surface"
           }
          ],
          "table": [
           {
            "cells": {
             "fill": {
              "color": "#EBF0F8"
             },
             "line": {
              "color": "white"
             }
            },
            "header": {
             "fill": {
              "color": "#C8D4E3"
             },
             "line": {
              "color": "white"
             }
            },
            "type": "table"
           }
          ]
         },
         "layout": {
          "annotationdefaults": {
           "arrowcolor": "#2a3f5f",
           "arrowhead": 0,
           "arrowwidth": 1
          },
          "autotypenumbers": "strict",
          "coloraxis": {
           "colorbar": {
            "outlinewidth": 0,
            "ticks": ""
           }
          },
          "colorscale": {
           "diverging": [
            [
             0,
             "#8e0152"
            ],
            [
             0.1,
             "#c51b7d"
            ],
            [
             0.2,
             "#de77ae"
            ],
            [
             0.3,
             "#f1b6da"
            ],
            [
             0.4,
             "#fde0ef"
            ],
            [
             0.5,
             "#f7f7f7"
            ],
            [
             0.6,
             "#e6f5d0"
            ],
            [
             0.7,
             "#b8e186"
            ],
            [
             0.8,
             "#7fbc41"
            ],
            [
             0.9,
             "#4d9221"
            ],
            [
             1,
             "#276419"
            ]
           ],
           "sequential": [
            [
             0,
             "#0d0887"
            ],
            [
             0.1111111111111111,
             "#46039f"
            ],
            [
             0.2222222222222222,
             "#7201a8"
            ],
            [
             0.3333333333333333,
             "#9c179e"
            ],
            [
             0.4444444444444444,
             "#bd3786"
            ],
            [
             0.5555555555555556,
             "#d8576b"
            ],
            [
             0.6666666666666666,
             "#ed7953"
            ],
            [
             0.7777777777777778,
             "#fb9f3a"
            ],
            [
             0.8888888888888888,
             "#fdca26"
            ],
            [
             1,
             "#f0f921"
            ]
           ],
           "sequentialminus": [
            [
             0,
             "#0d0887"
            ],
            [
             0.1111111111111111,
             "#46039f"
            ],
            [
             0.2222222222222222,
             "#7201a8"
            ],
            [
             0.3333333333333333,
             "#9c179e"
            ],
            [
             0.4444444444444444,
             "#bd3786"
            ],
            [
             0.5555555555555556,
             "#d8576b"
            ],
            [
             0.6666666666666666,
             "#ed7953"
            ],
            [
             0.7777777777777778,
             "#fb9f3a"
            ],
            [
             0.8888888888888888,
             "#fdca26"
            ],
            [
             1,
             "#f0f921"
            ]
           ]
          },
          "colorway": [
           "#636efa",
           "#EF553B",
           "#00cc96",
           "#ab63fa",
           "#FFA15A",
           "#19d3f3",
           "#FF6692",
           "#B6E880",
           "#FF97FF",
           "#FECB52"
          ],
          "font": {
           "color": "#2a3f5f"
          },
          "geo": {
           "bgcolor": "white",
           "lakecolor": "white",
           "landcolor": "#E5ECF6",
           "showlakes": true,
           "showland": true,
           "subunitcolor": "white"
          },
          "hoverlabel": {
           "align": "left"
          },
          "hovermode": "closest",
          "mapbox": {
           "style": "light"
          },
          "paper_bgcolor": "white",
          "plot_bgcolor": "#E5ECF6",
          "polar": {
           "angularaxis": {
            "gridcolor": "white",
            "linecolor": "white",
            "ticks": ""
           },
           "bgcolor": "#E5ECF6",
           "radialaxis": {
            "gridcolor": "white",
            "linecolor": "white",
            "ticks": ""
           }
          },
          "scene": {
           "xaxis": {
            "backgroundcolor": "#E5ECF6",
            "gridcolor": "white",
            "gridwidth": 2,
            "linecolor": "white",
            "showbackground": true,
            "ticks": "",
            "zerolinecolor": "white"
           },
           "yaxis": {
            "backgroundcolor": "#E5ECF6",
            "gridcolor": "white",
            "gridwidth": 2,
            "linecolor": "white",
            "showbackground": true,
            "ticks": "",
            "zerolinecolor": "white"
           },
           "zaxis": {
            "backgroundcolor": "#E5ECF6",
            "gridcolor": "white",
            "gridwidth": 2,
            "linecolor": "white",
            "showbackground": true,
            "ticks": "",
            "zerolinecolor": "white"
           }
          },
          "shapedefaults": {
           "line": {
            "color": "#2a3f5f"
           }
          },
          "ternary": {
           "aaxis": {
            "gridcolor": "white",
            "linecolor": "white",
            "ticks": ""
           },
           "baxis": {
            "gridcolor": "white",
            "linecolor": "white",
            "ticks": ""
           },
           "bgcolor": "#E5ECF6",
           "caxis": {
            "gridcolor": "white",
            "linecolor": "white",
            "ticks": ""
           }
          },
          "title": {
           "x": 0.05
          },
          "xaxis": {
           "automargin": true,
           "gridcolor": "white",
           "linecolor": "white",
           "ticks": "",
           "title": {
            "standoff": 15
           },
           "zerolinecolor": "white",
           "zerolinewidth": 2
          },
          "yaxis": {
           "automargin": true,
           "gridcolor": "white",
           "linecolor": "white",
           "ticks": "",
           "title": {
            "standoff": 15
           },
           "zerolinecolor": "white",
           "zerolinewidth": 2
          }
         }
        },
        "title": {
         "text": "2D Chroma Vector Store Visualization"
        },
        "width": 800
       }
      }
     },
     "metadata": {},
     "output_type": "display_data"
    }
   ],
   "source": [
    "#Reduce the dimensionality of the vectors to 2D using t-SNE\n",
    "# (t-distributed stochaistic neighbor embedding)\n",
    "\n",
    "tsne=TSNE(n_components=2, random_state=42)\n",
    "reduced_vectors=tsne.fit_transform(vectors)\n",
    "\n",
    "#Create the 2D scatter plot\n",
    "fig=go.Figure(data=[go.Scatter(\n",
    "    x=reduced_vectors[:,0],\n",
    "    y=reduced_vectors[:,1],\n",
    "    mode='markers',\n",
    "    marker=dict(size=5, color=colors, opacity=0.8),\n",
    "    text=[f\"Type: {t}<br>Text: {str(d)[:100]}...\" for t, d in zip(doc_types, documents)],\n",
    "    hoverinfo='text'\n",
    ")])\n",
    "\n",
    "fig.update_layout(\n",
    "    title='2D Chroma Vector Store Visualization',\n",
    "    scene=dict(xaxis_title='x',yaxis_title='y'),\n",
    "    width=800,\n",
    "    height=600,\n",
    "    margin=dict(r=20,b=10,l=10,t=40)\n",
    ")\n",
    "\n",
    "fig.show()"
   ]
  },
  {
   "cell_type": "code",
   "execution_count": 20,
   "metadata": {},
   "outputs": [
    {
     "data": {
      "application/vnd.plotly.v1+json": {
       "config": {
        "plotlyServerURL": "https://plot.ly"
       },
       "data": [
        {
         "hoverinfo": "text",
         "marker": {
          "color": [
           "orange",
           "orange",
           "orange",
           "red",
           "red",
           "red",
           "red",
           "red",
           "red",
           "red",
           "red",
           "red",
           "red",
           "red",
           "red",
           "red",
           "red",
           "red",
           "red",
           "red",
           "red",
           "red",
           "red",
           "red",
           "red",
           "red",
           "red",
           "red",
           "red",
           "red",
           "red",
           "red",
           "red",
           "red",
           "red",
           "red",
           "red",
           "red",
           "red",
           "red",
           "red",
           "red",
           "red",
           "red",
           "red",
           "red",
           "red",
           "red",
           "red",
           "red",
           "red",
           "red",
           "red",
           "red",
           "red",
           "green",
           "green",
           "green",
           "green",
           "green",
           "green",
           "green",
           "green",
           "green",
           "green",
           "green",
           "green",
           "green",
           "green",
           "green",
           "green",
           "green",
           "green",
           "green",
           "green",
           "green",
           "green",
           "green",
           "green",
           "green",
           "green",
           "green",
           "green",
           "green",
           "green",
           "green",
           "green",
           "green",
           "green",
           "green",
           "green",
           "green",
           "green",
           "green",
           "green",
           "green",
           "green",
           "green",
           "green",
           "green",
           "green",
           "green",
           "blue",
           "blue",
           "blue",
           "blue",
           "blue",
           "blue",
           "blue",
           "blue",
           "blue",
           "blue",
           "blue",
           "blue",
           "blue",
           "blue",
           "blue",
           "blue",
           "blue",
           "blue",
           "blue",
           "blue",
           "blue"
          ],
          "opacity": 0.8,
          "size": 5
         },
         "mode": "markers",
         "text": [
          "Type: company<br>Text: page_content='# About Insurellm\n\nInsurellm was founded by Avery Lancaster in 2015 as an insurance te...",
          "Type: company<br>Text: page_content='# Careers at Insurellm\n\nInsurellm is hiring! We are looking for talented software engi...",
          "Type: company<br>Text: page_content='# Overview of Insurellm\n\nInsurellm is an innovative insurance tech firm with 200 emplo...",
          "Type: contracts<br>Text: page_content='# Contract with Apex Reinsurance for Rellm: AI-Powered Enterprise Reinsurance Solution...",
          "Type: contracts<br>Text: page_content='# Contract with Belvedere Insurance for Markellm\n\n## Terms\nThis Contract (\"Agreement\")...",
          "Type: contracts<br>Text: page_content='# Contract with BrightWay Solutions for Markellm\n\n**Contract Date:** October 5, 2023  ...",
          "Type: contracts<br>Text: page_content='# Contract with EverGuard Insurance for Rellm: AI-Powered Enterprise Reinsurance Solut...",
          "Type: contracts<br>Text: page_content='# Contract with GreenField Holdings for Markellm\n\n**Effective Date:** November 15, 202...",
          "Type: contracts<br>Text: page_content='# Contract with Greenstone Insurance for Homellm\n\n---\n\n## Terms\n\n1. **Parties**: This ...",
          "Type: contracts<br>Text: page_content='# Contract with GreenValley Insurance for Homellm\n\n**Contract Date:** October 6, 2023 ...",
          "Type: contracts<br>Text: page_content='# Contract with Pinnacle Insurance Co. for Homellm\n\n## Terms\nThis contract (\"Contract\"...",
          "Type: contracts<br>Text: page_content='# Contract with Roadway Insurance Inc. for Carllm\n\n---\n\n## Terms\n\n1. **Agreement Effec...",
          "Type: contracts<br>Text: page_content='# Contract with Stellar Insurance Co. for Rellm\n\n## Terms\nThis contract is made betwee...",
          "Type: contracts<br>Text: page_content='# Contract with TechDrive Insurance for Carllm\n\n**Contract Date:** October 1, 2024  \n*...",
          "Type: contracts<br>Text: page_content='# Contract with Velocity Auto Solutions for Carllm\n\n**Contract Date:** October 1, 2023...",
          "Type: contracts<br>Text: page_content='# HR Record\n\n# Alex Chen\n\n## Summary\n- **Date of Birth:** March 15, 1990  \n- **Job Tit...",
          "Type: contracts<br>Text: page_content='# HR Record\n\n# Alex Harper\n\n## Summary\n- **Date of Birth**: March 15, 1993  \n- **Job T...",
          "Type: contracts<br>Text: page_content='# HR Record\n\n# Alex Thomson\n\n## Summary\n- **Date of Birth:** March 15, 1995  \n- **Job ...",
          "Type: contracts<br>Text: page_content='# Avery Lancaster\n\n## Summary\n- **Date of Birth**: March 15, 1985  \n- **Job Title**: C...",
          "Type: contracts<br>Text: page_content='# HR Record\n\n# Emily Carter\n\n## Summary\n- **Date of Birth:** August 12, 1990  \n- **Job...",
          "Type: contracts<br>Text: page_content='# HR Record\n\n# Emily Tran\n\n## Summary\n- **Date of Birth:** March 18, 1991  \n- **Job Ti...",
          "Type: contracts<br>Text: page_content='# HR Record\n\n# Jordan Blake\n\n## Summary\n- **Date of Birth:** March 15, 1993  \n- **Job ...",
          "Type: contracts<br>Text: page_content='# HR Record\n\n# Jordan K. Bishop\n\n## Summary\n- **Date of Birth:** March 15, 1990\n- **Jo...",
          "Type: contracts<br>Text: page_content='# HR Record\n\n# Maxine Thompson\n\n## Summary\n- **Date of Birth:** January 15, 1991  \n- *...",
          "Type: contracts<br>Text: page_content='# HR Record\n\n# Oliver Spencer\n\n## Summary\n- **Date of Birth**: May 14, 1990  \n- **Job ...",
          "Type: contracts<br>Text: page_content='# Samantha Greene\n\n## Summary\n- **Date of Birth:** October 14, 1990\n- **Job Title:** H...",
          "Type: contracts<br>Text: page_content='# HR Record\n\n# Samuel Trenton\n\n## Summary\n- **Date of Birth:** April 12, 1989  \n- **Jo...",
          "Type: contracts<br>Text: page_content='# Product Summary\n\n# Carllm\n\n## Summary\n\nCarllm is an innovative auto insurance produc...",
          "Type: contracts<br>Text: page_content='# Product Summary\n\n# Homellm\n\n## Summary\nHomellm is an innovative home insurance produ...",
          "Type: contracts<br>Text: page_content='# Product Summary\n\n# Markellm\n\n## Summary\n\nMarkellm is an innovative two-sided marketp...",
          "Type: contracts<br>Text: page_content='# Product Summary\n\n# Rellm: AI-Powered Enterprise Reinsurance Solution\n\n## Summary\n\nRe..."
         ],
         "type": "scatter3d",
         "x": [
          -25.33699,
          23.125704,
          -32.398937,
          128.30185,
          -42.151573,
          -84.20824,
          -65.89239,
          13.509422,
          -62.536034,
          -4.918247,
          -2.531276,
          -62.882416,
          -40.286804,
          -66.21802,
          -48.97349,
          -39.208923,
          -44.393204,
          -17.40102,
          -40.838787,
          -25.861168,
          -18.878271,
          3.9201674,
          -23.05838,
          -15.291721,
          -6.3243947,
          -55.522648,
          33.49939,
          -97.265205,
          -94.77266,
          -17.591997,
          -83.24281,
          -87.17788,
          -111.69755,
          -102.047,
          15.366057,
          -85.54397,
          -59.99803,
          -28.49066,
          -19.070583,
          -58.794834,
          -39.694298,
          -39.171055,
          7.948366,
          -30.017605,
          -73.81685,
          -68.60062,
          -29.609325,
          -51.183437,
          -29.218227,
          -8.44965,
          -8.87172,
          0.9658423,
          -49.269238,
          -80.52695,
          -41.510345,
          66.92977,
          96.267166,
          55.215294,
          50.18028,
          -85.83787,
          79.043686,
          72.58318,
          36.93266,
          52.521725,
          25.137262,
          46.333553,
          57.160557,
          84.41685,
          67.47494,
          103.27782,
          71.58476,
          37.913826,
          33.2384,
          84.40854,
          40.257908,
          17.534426,
          -5.9709387,
          61.590164,
          19.72504,
          47.54806,
          47.63599,
          11.2834425,
          -118.142395,
          96.448654,
          90.40876,
          5.1348667,
          27.465237,
          10.759459,
          95.4975,
          8.0634,
          47.53635,
          44.09314,
          75.75139,
          65.654884,
          67.91768,
          87.56365,
          76.23498,
          69.57991,
          21.76257,
          62.31876,
          57.218555,
          -4.9481254,
          14.608079,
          4.9401903,
          -7.302953,
          14.896901,
          27.620436,
          7.570372,
          -40.300602,
          -66.28219,
          -83.45655,
          -58.939514,
          -61.514744,
          18.625277,
          11.070621,
          -21.002192,
          -24.347176,
          1.6134162,
          -17.670626,
          -43.76227,
          -65.24448,
          -13.557059,
          -28.397434
         ],
         "y": [
          -53.977436,
          1.9753389,
          -33.734863,
          18.885199,
          3.0523887,
          39.29108,
          29.760506,
          -29.81889,
          -9.707689,
          -3.394092,
          -91.31264,
          18.258204,
          28.11473,
          -30.24521,
          -41.57631,
          -34.560642,
          -16.409935,
          -9.972167,
          -26.78844,
          55.88768,
          -33.314705,
          -26.144146,
          79.52492,
          -26.08182,
          -72.5414,
          -70.50304,
          -41.206505,
          21.769835,
          -30.258238,
          41.371666,
          1.1810681,
          40.068886,
          2.7973886,
          -0.5922417,
          -58.36006,
          -23.707262,
          61.838837,
          -10.320737,
          17.825483,
          14.520932,
          23.121307,
          -12.212614,
          40.685627,
          66.76169,
          30.25517,
          -11.685688,
          22.420382,
          38.60887,
          22.46638,
          39.88904,
          48.99565,
          69.87093,
          39.862106,
          71.97865,
          52.963135,
          50.925743,
          -1.0095438,
          -43.075104,
          42.33835,
          15.659881,
          -11.941362,
          -35.4149,
          67.1656,
          -15.666553,
          82.07678,
          2.0996125,
          -10.043241,
          -11.361215,
          -24.170004,
          -18.908401,
          11.476899,
          29.634262,
          73.20319,
          0.5255363,
          80.83243,
          -24.055874,
          -77.99357,
          10.5385685,
          -0.40438238,
          37.249683,
          -28.521364,
          -30.06063,
          40.130634,
          8.703094,
          -37.409138,
          -8.187179,
          37.380714,
          49.80526,
          35.986202,
          39.642105,
          8.441532,
          40.612553,
          16.013063,
          -53.552834,
          51.50338,
          37.276264,
          31.54157,
          66.67487,
          32.431297,
          -3.2102423,
          -18.35373,
          6.9740834,
          14.591353,
          -5.4030647,
          -9.470691,
          -11.701619,
          11.59548,
          -63.36141,
          -67.00029,
          -48.490982,
          -55.196426,
          -77.43978,
          -46.448177,
          -72.34725,
          -63.519047,
          -55.792458,
          -67.145515,
          -56.505554,
          -2.490919,
          -1.1357576,
          9.493632,
          16.273924,
          37.161015
         ],
         "z": [
          -70.700645,
          -3.0986254,
          -53.574303,
          -40.99039,
          -15.346304,
          -24.103048,
          -11.481903,
          16.232815,
          58.542896,
          112.79037,
          35.756138,
          40.438942,
          -82.154915,
          45.71575,
          20.61899,
          50.024586,
          30.506777,
          -0.5666838,
          -9.777041,
          -57.771053,
          -18.084074,
          -10.801918,
          -18.851395,
          107.80876,
          11.225086,
          52.88892,
          18.988895,
          8.092997,
          14.485116,
          11.961831,
          16.69908,
          25.757103,
          2.1720028,
          -23.44432,
          -14.752023,
          -37.55122,
          -8.235234,
          120.84066,
          19.223095,
          14.271692,
          87.62896,
          93.073814,
          27.904095,
          58.34562,
          -58.04111,
          -9.082013,
          -44.041817,
          -42.55657,
          62.63481,
          76.724365,
          51.452023,
          60.736893,
          67.08207,
          26.67403,
          40.27932,
          14.607669,
          -0.71431077,
          -36.470848,
          42.658073,
          78.436,
          -45.06508,
          -62.158024,
          -11.742056,
          -53.342236,
          0.9490961,
          25.58517,
          47.292233,
          46.366627,
          30.331484,
          -61.547024,
          29.983805,
          -52.226326,
          -59.135117,
          -77.757,
          38.717278,
          -45.68574,
          -30.201496,
          -56.91221,
          -39.96974,
          -23.765429,
          -16.543013,
          -91.0063,
          88.604744,
          -23.325012,
          -29.017544,
          -76.2158,
          -86.44784,
          -28.367287,
          -14.566788,
          -51.735027,
          -88.64115,
          9.780718,
          -7.2698402,
          -16.86468,
          -56.032005,
          -43.74918,
          -80.36389,
          -33.13605,
          -9.10661,
          -25.86565,
          -82.90001,
          -106.561874,
          50.47959,
          39.759727,
          64.34816,
          73.824554,
          76.278244,
          -53.921276,
          -27.18643,
          -27.586794,
          -6.760229,
          -8.318017,
          -54.71096,
          42.389324,
          64.37353,
          68.12314,
          47.497112,
          37.51023,
          -37.70739,
          -50.7306,
          -33.664536,
          -19.245878,
          -16.798313
         ]
        }
       ],
       "layout": {
        "height": 600,
        "margin": {
         "b": 10,
         "l": 10,
         "r": 20,
         "t": 40
        },
        "scene": {
         "xaxis": {
          "title": {
           "text": "x"
          }
         },
         "yaxis": {
          "title": {
           "text": "y"
          }
         },
         "zaxis": {
          "title": {
           "text": "z"
          }
         }
        },
        "template": {
         "data": {
          "bar": [
           {
            "error_x": {
             "color": "#2a3f5f"
            },
            "error_y": {
             "color": "#2a3f5f"
            },
            "marker": {
             "line": {
              "color": "#E5ECF6",
              "width": 0.5
             },
             "pattern": {
              "fillmode": "overlay",
              "size": 10,
              "solidity": 0.2
             }
            },
            "type": "bar"
           }
          ],
          "barpolar": [
           {
            "marker": {
             "line": {
              "color": "#E5ECF6",
              "width": 0.5
             },
             "pattern": {
              "fillmode": "overlay",
              "size": 10,
              "solidity": 0.2
             }
            },
            "type": "barpolar"
           }
          ],
          "carpet": [
           {
            "aaxis": {
             "endlinecolor": "#2a3f5f",
             "gridcolor": "white",
             "linecolor": "white",
             "minorgridcolor": "white",
             "startlinecolor": "#2a3f5f"
            },
            "baxis": {
             "endlinecolor": "#2a3f5f",
             "gridcolor": "white",
             "linecolor": "white",
             "minorgridcolor": "white",
             "startlinecolor": "#2a3f5f"
            },
            "type": "carpet"
           }
          ],
          "choropleth": [
           {
            "colorbar": {
             "outlinewidth": 0,
             "ticks": ""
            },
            "type": "choropleth"
           }
          ],
          "contour": [
           {
            "colorbar": {
             "outlinewidth": 0,
             "ticks": ""
            },
            "colorscale": [
             [
              0,
              "#0d0887"
             ],
             [
              0.1111111111111111,
              "#46039f"
             ],
             [
              0.2222222222222222,
              "#7201a8"
             ],
             [
              0.3333333333333333,
              "#9c179e"
             ],
             [
              0.4444444444444444,
              "#bd3786"
             ],
             [
              0.5555555555555556,
              "#d8576b"
             ],
             [
              0.6666666666666666,
              "#ed7953"
             ],
             [
              0.7777777777777778,
              "#fb9f3a"
             ],
             [
              0.8888888888888888,
              "#fdca26"
             ],
             [
              1,
              "#f0f921"
             ]
            ],
            "type": "contour"
           }
          ],
          "contourcarpet": [
           {
            "colorbar": {
             "outlinewidth": 0,
             "ticks": ""
            },
            "type": "contourcarpet"
           }
          ],
          "heatmap": [
           {
            "colorbar": {
             "outlinewidth": 0,
             "ticks": ""
            },
            "colorscale": [
             [
              0,
              "#0d0887"
             ],
             [
              0.1111111111111111,
              "#46039f"
             ],
             [
              0.2222222222222222,
              "#7201a8"
             ],
             [
              0.3333333333333333,
              "#9c179e"
             ],
             [
              0.4444444444444444,
              "#bd3786"
             ],
             [
              0.5555555555555556,
              "#d8576b"
             ],
             [
              0.6666666666666666,
              "#ed7953"
             ],
             [
              0.7777777777777778,
              "#fb9f3a"
             ],
             [
              0.8888888888888888,
              "#fdca26"
             ],
             [
              1,
              "#f0f921"
             ]
            ],
            "type": "heatmap"
           }
          ],
          "heatmapgl": [
           {
            "colorbar": {
             "outlinewidth": 0,
             "ticks": ""
            },
            "colorscale": [
             [
              0,
              "#0d0887"
             ],
             [
              0.1111111111111111,
              "#46039f"
             ],
             [
              0.2222222222222222,
              "#7201a8"
             ],
             [
              0.3333333333333333,
              "#9c179e"
             ],
             [
              0.4444444444444444,
              "#bd3786"
             ],
             [
              0.5555555555555556,
              "#d8576b"
             ],
             [
              0.6666666666666666,
              "#ed7953"
             ],
             [
              0.7777777777777778,
              "#fb9f3a"
             ],
             [
              0.8888888888888888,
              "#fdca26"
             ],
             [
              1,
              "#f0f921"
             ]
            ],
            "type": "heatmapgl"
           }
          ],
          "histogram": [
           {
            "marker": {
             "pattern": {
              "fillmode": "overlay",
              "size": 10,
              "solidity": 0.2
             }
            },
            "type": "histogram"
           }
          ],
          "histogram2d": [
           {
            "colorbar": {
             "outlinewidth": 0,
             "ticks": ""
            },
            "colorscale": [
             [
              0,
              "#0d0887"
             ],
             [
              0.1111111111111111,
              "#46039f"
             ],
             [
              0.2222222222222222,
              "#7201a8"
             ],
             [
              0.3333333333333333,
              "#9c179e"
             ],
             [
              0.4444444444444444,
              "#bd3786"
             ],
             [
              0.5555555555555556,
              "#d8576b"
             ],
             [
              0.6666666666666666,
              "#ed7953"
             ],
             [
              0.7777777777777778,
              "#fb9f3a"
             ],
             [
              0.8888888888888888,
              "#fdca26"
             ],
             [
              1,
              "#f0f921"
             ]
            ],
            "type": "histogram2d"
           }
          ],
          "histogram2dcontour": [
           {
            "colorbar": {
             "outlinewidth": 0,
             "ticks": ""
            },
            "colorscale": [
             [
              0,
              "#0d0887"
             ],
             [
              0.1111111111111111,
              "#46039f"
             ],
             [
              0.2222222222222222,
              "#7201a8"
             ],
             [
              0.3333333333333333,
              "#9c179e"
             ],
             [
              0.4444444444444444,
              "#bd3786"
             ],
             [
              0.5555555555555556,
              "#d8576b"
             ],
             [
              0.6666666666666666,
              "#ed7953"
             ],
             [
              0.7777777777777778,
              "#fb9f3a"
             ],
             [
              0.8888888888888888,
              "#fdca26"
             ],
             [
              1,
              "#f0f921"
             ]
            ],
            "type": "histogram2dcontour"
           }
          ],
          "mesh3d": [
           {
            "colorbar": {
             "outlinewidth": 0,
             "ticks": ""
            },
            "type": "mesh3d"
           }
          ],
          "parcoords": [
           {
            "line": {
             "colorbar": {
              "outlinewidth": 0,
              "ticks": ""
             }
            },
            "type": "parcoords"
           }
          ],
          "pie": [
           {
            "automargin": true,
            "type": "pie"
           }
          ],
          "scatter": [
           {
            "fillpattern": {
             "fillmode": "overlay",
             "size": 10,
             "solidity": 0.2
            },
            "type": "scatter"
           }
          ],
          "scatter3d": [
           {
            "line": {
             "colorbar": {
              "outlinewidth": 0,
              "ticks": ""
             }
            },
            "marker": {
             "colorbar": {
              "outlinewidth": 0,
              "ticks": ""
             }
            },
            "type": "scatter3d"
           }
          ],
          "scattercarpet": [
           {
            "marker": {
             "colorbar": {
              "outlinewidth": 0,
              "ticks": ""
             }
            },
            "type": "scattercarpet"
           }
          ],
          "scattergeo": [
           {
            "marker": {
             "colorbar": {
              "outlinewidth": 0,
              "ticks": ""
             }
            },
            "type": "scattergeo"
           }
          ],
          "scattergl": [
           {
            "marker": {
             "colorbar": {
              "outlinewidth": 0,
              "ticks": ""
             }
            },
            "type": "scattergl"
           }
          ],
          "scattermapbox": [
           {
            "marker": {
             "colorbar": {
              "outlinewidth": 0,
              "ticks": ""
             }
            },
            "type": "scattermapbox"
           }
          ],
          "scatterpolar": [
           {
            "marker": {
             "colorbar": {
              "outlinewidth": 0,
              "ticks": ""
             }
            },
            "type": "scatterpolar"
           }
          ],
          "scatterpolargl": [
           {
            "marker": {
             "colorbar": {
              "outlinewidth": 0,
              "ticks": ""
             }
            },
            "type": "scatterpolargl"
           }
          ],
          "scatterternary": [
           {
            "marker": {
             "colorbar": {
              "outlinewidth": 0,
              "ticks": ""
             }
            },
            "type": "scatterternary"
           }
          ],
          "surface": [
           {
            "colorbar": {
             "outlinewidth": 0,
             "ticks": ""
            },
            "colorscale": [
             [
              0,
              "#0d0887"
             ],
             [
              0.1111111111111111,
              "#46039f"
             ],
             [
              0.2222222222222222,
              "#7201a8"
             ],
             [
              0.3333333333333333,
              "#9c179e"
             ],
             [
              0.4444444444444444,
              "#bd3786"
             ],
             [
              0.5555555555555556,
              "#d8576b"
             ],
             [
              0.6666666666666666,
              "#ed7953"
             ],
             [
              0.7777777777777778,
              "#fb9f3a"
             ],
             [
              0.8888888888888888,
              "#fdca26"
             ],
             [
              1,
              "#f0f921"
             ]
            ],
            "type": "surface"
           }
          ],
          "table": [
           {
            "cells": {
             "fill": {
              "color": "#EBF0F8"
             },
             "line": {
              "color": "white"
             }
            },
            "header": {
             "fill": {
              "color": "#C8D4E3"
             },
             "line": {
              "color": "white"
             }
            },
            "type": "table"
           }
          ]
         },
         "layout": {
          "annotationdefaults": {
           "arrowcolor": "#2a3f5f",
           "arrowhead": 0,
           "arrowwidth": 1
          },
          "autotypenumbers": "strict",
          "coloraxis": {
           "colorbar": {
            "outlinewidth": 0,
            "ticks": ""
           }
          },
          "colorscale": {
           "diverging": [
            [
             0,
             "#8e0152"
            ],
            [
             0.1,
             "#c51b7d"
            ],
            [
             0.2,
             "#de77ae"
            ],
            [
             0.3,
             "#f1b6da"
            ],
            [
             0.4,
             "#fde0ef"
            ],
            [
             0.5,
             "#f7f7f7"
            ],
            [
             0.6,
             "#e6f5d0"
            ],
            [
             0.7,
             "#b8e186"
            ],
            [
             0.8,
             "#7fbc41"
            ],
            [
             0.9,
             "#4d9221"
            ],
            [
             1,
             "#276419"
            ]
           ],
           "sequential": [
            [
             0,
             "#0d0887"
            ],
            [
             0.1111111111111111,
             "#46039f"
            ],
            [
             0.2222222222222222,
             "#7201a8"
            ],
            [
             0.3333333333333333,
             "#9c179e"
            ],
            [
             0.4444444444444444,
             "#bd3786"
            ],
            [
             0.5555555555555556,
             "#d8576b"
            ],
            [
             0.6666666666666666,
             "#ed7953"
            ],
            [
             0.7777777777777778,
             "#fb9f3a"
            ],
            [
             0.8888888888888888,
             "#fdca26"
            ],
            [
             1,
             "#f0f921"
            ]
           ],
           "sequentialminus": [
            [
             0,
             "#0d0887"
            ],
            [
             0.1111111111111111,
             "#46039f"
            ],
            [
             0.2222222222222222,
             "#7201a8"
            ],
            [
             0.3333333333333333,
             "#9c179e"
            ],
            [
             0.4444444444444444,
             "#bd3786"
            ],
            [
             0.5555555555555556,
             "#d8576b"
            ],
            [
             0.6666666666666666,
             "#ed7953"
            ],
            [
             0.7777777777777778,
             "#fb9f3a"
            ],
            [
             0.8888888888888888,
             "#fdca26"
            ],
            [
             1,
             "#f0f921"
            ]
           ]
          },
          "colorway": [
           "#636efa",
           "#EF553B",
           "#00cc96",
           "#ab63fa",
           "#FFA15A",
           "#19d3f3",
           "#FF6692",
           "#B6E880",
           "#FF97FF",
           "#FECB52"
          ],
          "font": {
           "color": "#2a3f5f"
          },
          "geo": {
           "bgcolor": "white",
           "lakecolor": "white",
           "landcolor": "#E5ECF6",
           "showlakes": true,
           "showland": true,
           "subunitcolor": "white"
          },
          "hoverlabel": {
           "align": "left"
          },
          "hovermode": "closest",
          "mapbox": {
           "style": "light"
          },
          "paper_bgcolor": "white",
          "plot_bgcolor": "#E5ECF6",
          "polar": {
           "angularaxis": {
            "gridcolor": "white",
            "linecolor": "white",
            "ticks": ""
           },
           "bgcolor": "#E5ECF6",
           "radialaxis": {
            "gridcolor": "white",
            "linecolor": "white",
            "ticks": ""
           }
          },
          "scene": {
           "xaxis": {
            "backgroundcolor": "#E5ECF6",
            "gridcolor": "white",
            "gridwidth": 2,
            "linecolor": "white",
            "showbackground": true,
            "ticks": "",
            "zerolinecolor": "white"
           },
           "yaxis": {
            "backgroundcolor": "#E5ECF6",
            "gridcolor": "white",
            "gridwidth": 2,
            "linecolor": "white",
            "showbackground": true,
            "ticks": "",
            "zerolinecolor": "white"
           },
           "zaxis": {
            "backgroundcolor": "#E5ECF6",
            "gridcolor": "white",
            "gridwidth": 2,
            "linecolor": "white",
            "showbackground": true,
            "ticks": "",
            "zerolinecolor": "white"
           }
          },
          "shapedefaults": {
           "line": {
            "color": "#2a3f5f"
           }
          },
          "ternary": {
           "aaxis": {
            "gridcolor": "white",
            "linecolor": "white",
            "ticks": ""
           },
           "baxis": {
            "gridcolor": "white",
            "linecolor": "white",
            "ticks": ""
           },
           "bgcolor": "#E5ECF6",
           "caxis": {
            "gridcolor": "white",
            "linecolor": "white",
            "ticks": ""
           }
          },
          "title": {
           "x": 0.05
          },
          "xaxis": {
           "automargin": true,
           "gridcolor": "white",
           "linecolor": "white",
           "ticks": "",
           "title": {
            "standoff": 15
           },
           "zerolinecolor": "white",
           "zerolinewidth": 2
          },
          "yaxis": {
           "automargin": true,
           "gridcolor": "white",
           "linecolor": "white",
           "ticks": "",
           "title": {
            "standoff": 15
           },
           "zerolinecolor": "white",
           "zerolinewidth": 2
          }
         }
        },
        "title": {
         "text": "2D Chroma Vector Store Visualization"
        },
        "width": 800
       }
      }
     },
     "metadata": {},
     "output_type": "display_data"
    }
   ],
   "source": [
    "tsne=TSNE(n_components=3, random_state=42)\n",
    "reduced_vectors=tsne.fit_transform(vectors)\n",
    "\n",
    "#Create the 2D scatter plot\n",
    "fig=go.Figure(data=[go.Scatter3d(\n",
    "    x=reduced_vectors[:,0],\n",
    "    y=reduced_vectors[:,1],\n",
    "    z=reduced_vectors[:,2],\n",
    "    mode='markers',\n",
    "    marker=dict(size=5, color=colors, opacity=0.8),\n",
    "    text=[f\"Type: {t}<br>Text: {str(d)[:100]}...\" for t, d in zip(doc_types, documents)],\n",
    "    hoverinfo='text'\n",
    ")])\n",
    "\n",
    "fig.update_layout(\n",
    "    title='2D Chroma Vector Store Visualization',\n",
    "    scene=dict(xaxis_title='x',yaxis_title='y',zaxis_title='z'),\n",
    "    width=800,\n",
    "    height=600,\n",
    "    margin=dict(r=20,b=10,l=10,t=40)\n",
    ")\n",
    "\n",
    "fig.show()"
   ]
  },
  {
   "cell_type": "code",
   "execution_count": 22,
   "metadata": {},
   "outputs": [
    {
     "name": "stderr",
     "output_type": "stream",
     "text": [
      "C:\\Users\\varsh\\AppData\\Local\\Temp\\ipykernel_14864\\3318285081.py:1: LangChainDeprecationWarning:\n",
      "\n",
      "Please see the migration guide at: https://python.langchain.com/docs/versions/migrating_memory/\n",
      "\n"
     ]
    }
   ],
   "source": [
    "memory=ConversationBufferMemory(memory_key='chat_history', return_messages=True)\n",
    "retriever=vectorstore.as_retriever()\n",
    "conversation_chain=ConversationalRetrievalChain.from_llm(llm=llm, retriever=retriever, memory=memory)"
   ]
  },
  {
   "cell_type": "code",
   "execution_count": 24,
   "metadata": {},
   "outputs": [
    {
     "name": "stdout",
     "output_type": "stream",
     "text": [
      "Insurellm is an innovative insurance tech firm with 200 employees across the US, offering four insurance software products and serving over 300 clients worldwide.\n"
     ]
    }
   ],
   "source": [
    "query=\"Can you describe Insurellm in a few sentences\"\n",
    "result=conversation_chain.invoke({\"question\": query})\n",
    "print(result['answer'])"
   ]
  },
  {
   "cell_type": "code",
   "execution_count": 25,
   "metadata": {},
   "outputs": [],
   "source": [
    "def chat(message, history):\n",
    "    result=conversation_chain.invoke({\"question\": message})\n",
    "    return result['answer']"
   ]
  },
  {
   "cell_type": "code",
   "execution_count": 27,
   "metadata": {},
   "outputs": [
    {
     "name": "stderr",
     "output_type": "stream",
     "text": [
      "c:\\Users\\varsh\\Documents\\AI\\LLM\\.venv\\Lib\\site-packages\\gradio\\components\\chatbot.py:228: UserWarning:\n",
      "\n",
      "The 'tuples' format for chatbot messages is deprecated and will be removed in a future version of Gradio. Please set type='messages' instead, which uses openai-style 'role' and 'content' keys.\n",
      "\n"
     ]
    },
    {
     "name": "stdout",
     "output_type": "stream",
     "text": [
      "* Running on local URL:  http://127.0.0.1:7860\n",
      "\n",
      "To create a public link, set `share=True` in `launch()`.\n"
     ]
    },
    {
     "data": {
      "text/html": [
       "<div><iframe src=\"http://127.0.0.1:7860/\" width=\"100%\" height=\"500\" allow=\"autoplay; camera; microphone; clipboard-read; clipboard-write;\" frameborder=\"0\" allowfullscreen></iframe></div>"
      ],
      "text/plain": [
       "<IPython.core.display.HTML object>"
      ]
     },
     "metadata": {},
     "output_type": "display_data"
    }
   ],
   "source": [
    "import gradio as gr\n",
    "view=gr.ChatInterface(chat).launch()"
   ]
  },
  {
   "cell_type": "code",
   "execution_count": 32,
   "metadata": {},
   "outputs": [
    {
     "name": "stdout",
     "output_type": "stream",
     "text": [
      "\n",
      "\n",
      "\u001b[1m> Entering new ConversationalRetrievalChain chain...\u001b[0m\n",
      "\n",
      "\n",
      "\u001b[1m> Entering new StuffDocumentsChain chain...\u001b[0m\n",
      "\n",
      "\n",
      "\u001b[1m> Entering new LLMChain chain...\u001b[0m\n",
      "Prompt after formatting:\n",
      "\u001b[32;1m\u001b[1;3mSystem: Use the following pieces of context to answer the user's question. \n",
      "If you don't know the answer, just say that you don't know, don't try to make up an answer.\n",
      "----------------\n",
      "## Annual Performance History\n",
      "- **2020:**  \n",
      "  - Completed onboarding successfully.  \n",
      "  - Met expectations in delivering project milestones.  \n",
      "  - Received positive feedback from the team leads.\n",
      "\n",
      "- **2021:**  \n",
      "  - Achieved a 95% success rate in project delivery timelines.  \n",
      "  - Awarded \"Rising Star\" at the annual company gala for outstanding contributions.  \n",
      "\n",
      "- **2022:**  \n",
      "  - Exceeded goals by optimizing existing backend code, improving system performance by 25%.  \n",
      "  - Conducted training sessions for junior developers, fostering knowledge sharing.  \n",
      "\n",
      "- **2023:**  \n",
      "  - Led a major overhaul of the API internal architecture, enhancing security protocols.  \n",
      "  - Contributed to the company’s transition to a cloud-based infrastructure.  \n",
      "  - Received an overall performance rating of 4.8/5.\n",
      "\n",
      "## Compensation History\n",
      "- **2020:** Base Salary: $80,000  \n",
      "- **2021:** Base Salary Increase to $90,000; Received a performance bonus of $5,000.  \n",
      "- **2022:** Base Salary Increase to $100,000; Performance bonus of $7,500 due to exceptional project outcomes.  \n",
      "- **2023:** Base Salary Increase to $115,000; Performance bonus of $10,000 for leading pivotal projects.\n",
      "\n",
      "## Other HR Notes\n",
      "- Participates regularly in Insurellm's Diversity & Inclusion initiatives, championing tech accessibility for underrepresented communities.\n",
      "- Completed several certifications in cloud architecture and DevOps, contributing to professional growth.\n",
      "- Plans for a professional development course in AI and machine learning to further enhance backend capabilities in Insurellm's offerings.\n",
      "- Acknowledged for volunteer efforts in local tech meetups, bringing seasoned engineers to mentor aspiring coders.\n",
      "\n",
      "## Annual Performance History\n",
      "- **2023:** Rating: 4.5/5  \n",
      "  *Samuel exceeded expectations, successfully leading a cross-departmental project on AI-driven underwriting processes.*\n",
      "\n",
      "- **2022:** Rating: 3.0/5  \n",
      "  *Some challenges in meeting deadlines and collaboration with the engineering team. Received constructive feedback and participated in a team communication workshop.*\n",
      "\n",
      "- **2021:** Rating: 4.0/5  \n",
      "  *There was notable improvement in performance. Worked to enhance model accuracy, leading to improved risk assessment outcomes for B2C customers.*\n",
      "\n",
      "- **2020:** Rating: 3.5/5  \n",
      "  *Exhibited a solid performance during the initial year as a Senior Data Scientist but had struggles adapting to new leadership expectations.*\n",
      "\n",
      "## Compensation History\n",
      "- **2023:** Base Salary: $115,000 + Bonus: $15,000  \n",
      "  *Annual bonus based on successful project completions and performance metrics.*\n",
      "\n",
      "## Annual Performance History\n",
      "- **2019:** Exceeds Expectations - Continuously delivered high-quality code and participated actively in team meetings.\n",
      "- **2020:** Meets Expectations - Jordan K. Bishop maintained steady performance but faced challenges due to a higher workload from multiple projects.\n",
      "- **2021:** Exceeds Expectations - Recognized for leadership during the customer portal project; received the “Innovation Award” for creative problem-solving.\n",
      "- **2022:** Meets Expectations - While mentoring others, the shift in focus led to fewer contributions to new features, marking a decrease in performance.\n",
      "- **2023:** Needs Improvement - Transitioning back to development has resulted in difficulties with recent technologies, prompting a performance improvement plan.\n",
      "Human: Who received the prestigious IIOTY award in 2023?\u001b[0m\n",
      "\n",
      "\u001b[1m> Finished chain.\u001b[0m\n",
      "\n",
      "\u001b[1m> Finished chain.\u001b[0m\n",
      "\n",
      "\u001b[1m> Finished chain.\u001b[0m\n",
      "\n",
      "Answer: I don't know. There's no information provided about the IIOTY award or its recipient in 2023.\n"
     ]
    }
   ],
   "source": [
    "# Let's investigate what gets sent behind the scenes\n",
    "\n",
    "from langchain_core.callbacks import StdOutCallbackHandler\n",
    "\n",
    "memory=ConversationBufferMemory(memory_key='chat_history', return_messages=True)\n",
    "retriever=vectorstore.as_retriever()\n",
    "conversation_chain=ConversationalRetrievalChain.from_llm(llm=llm, retriever=retriever, memory=memory,\n",
    "                                                        callbacks=[StdOutCallbackHandler()])\n",
    "query=\"Who received the prestigious IIOTY award in 2023?\"\n",
    "result=conversation_chain.invoke({\"question\": query})\n",
    "answer=result['answer']\n",
    "print('\\nAnswer:', answer)"
   ]
  },
  {
   "cell_type": "code",
   "execution_count": 33,
   "metadata": {},
   "outputs": [
    {
     "name": "stdout",
     "output_type": "stream",
     "text": [
      "\n",
      "\n",
      "\u001b[1m> Entering new ConversationalRetrievalChain chain...\u001b[0m\n",
      "\n",
      "\n",
      "\u001b[1m> Entering new StuffDocumentsChain chain...\u001b[0m\n",
      "\n",
      "\n",
      "\u001b[1m> Entering new LLMChain chain...\u001b[0m\n",
      "Prompt after formatting:\n",
      "\u001b[32;1m\u001b[1;3mSystem: Use the following pieces of context to answer the user's question. \n",
      "If you don't know the answer, just say that you don't know, don't try to make up an answer.\n",
      "----------------\n",
      "## Annual Performance History\n",
      "- **2020:**  \n",
      "  - Completed onboarding successfully.  \n",
      "  - Met expectations in delivering project milestones.  \n",
      "  - Received positive feedback from the team leads.\n",
      "\n",
      "- **2021:**  \n",
      "  - Achieved a 95% success rate in project delivery timelines.  \n",
      "  - Awarded \"Rising Star\" at the annual company gala for outstanding contributions.  \n",
      "\n",
      "- **2022:**  \n",
      "  - Exceeded goals by optimizing existing backend code, improving system performance by 25%.  \n",
      "  - Conducted training sessions for junior developers, fostering knowledge sharing.  \n",
      "\n",
      "- **2023:**  \n",
      "  - Led a major overhaul of the API internal architecture, enhancing security protocols.  \n",
      "  - Contributed to the company’s transition to a cloud-based infrastructure.  \n",
      "  - Received an overall performance rating of 4.8/5.\n",
      "\n",
      "## Compensation History\n",
      "- **2020:** Base Salary: $80,000  \n",
      "- **2021:** Base Salary Increase to $90,000; Received a performance bonus of $5,000.  \n",
      "- **2022:** Base Salary Increase to $100,000; Performance bonus of $7,500 due to exceptional project outcomes.  \n",
      "- **2023:** Base Salary Increase to $115,000; Performance bonus of $10,000 for leading pivotal projects.\n",
      "\n",
      "## Other HR Notes\n",
      "- Participates regularly in Insurellm's Diversity & Inclusion initiatives, championing tech accessibility for underrepresented communities.\n",
      "- Completed several certifications in cloud architecture and DevOps, contributing to professional growth.\n",
      "- Plans for a professional development course in AI and machine learning to further enhance backend capabilities in Insurellm's offerings.\n",
      "- Acknowledged for volunteer efforts in local tech meetups, bringing seasoned engineers to mentor aspiring coders.\n",
      "\n",
      "## Annual Performance History\n",
      "- **2023:** Rating: 4.5/5  \n",
      "  *Samuel exceeded expectations, successfully leading a cross-departmental project on AI-driven underwriting processes.*\n",
      "\n",
      "- **2022:** Rating: 3.0/5  \n",
      "  *Some challenges in meeting deadlines and collaboration with the engineering team. Received constructive feedback and participated in a team communication workshop.*\n",
      "\n",
      "- **2021:** Rating: 4.0/5  \n",
      "  *There was notable improvement in performance. Worked to enhance model accuracy, leading to improved risk assessment outcomes for B2C customers.*\n",
      "\n",
      "- **2020:** Rating: 3.5/5  \n",
      "  *Exhibited a solid performance during the initial year as a Senior Data Scientist but had struggles adapting to new leadership expectations.*\n",
      "\n",
      "## Compensation History\n",
      "- **2023:** Base Salary: $115,000 + Bonus: $15,000  \n",
      "  *Annual bonus based on successful project completions and performance metrics.*\n",
      "\n",
      "## Annual Performance History\n",
      "- **2019:** Exceeds Expectations - Continuously delivered high-quality code and participated actively in team meetings.\n",
      "- **2020:** Meets Expectations - Jordan K. Bishop maintained steady performance but faced challenges due to a higher workload from multiple projects.\n",
      "- **2021:** Exceeds Expectations - Recognized for leadership during the customer portal project; received the “Innovation Award” for creative problem-solving.\n",
      "- **2022:** Meets Expectations - While mentoring others, the shift in focus led to fewer contributions to new features, marking a decrease in performance.\n",
      "- **2023:** Needs Improvement - Transitioning back to development has resulted in difficulties with recent technologies, prompting a performance improvement plan.\n",
      "\n",
      "## Insurellm Career Progression\n",
      "- **January 2017 - October 2018**: **Junior Data Engineer**  \n",
      "  * Maxine joined Insurellm as a Junior Data Engineer, focusing primarily on ETL processes and data integration tasks. She quickly learned Insurellm's data architecture, collaborating with other team members to streamline data workflows.  \n",
      "- **November 2018 - December 2020**: **Data Engineer**  \n",
      "  * In her new role, Maxine expanded her responsibilities to include designing comprehensive data models and improving data quality measures. Though she excelled in technical skills, communication issues with non-technical teams led to some project delays.  \n",
      "- **January 2021 - Present**: **Senior Data Engineer**  \n",
      "  * Maxine was promoted to Senior Data Engineer after successfully leading a pivotal project that improved data retrieval times by 30%. She now mentors junior engineers and is involved in strategic data initiatives, solidifying her position as a valued asset at Insurellm. She was recognized as Insurellm Innovator of the year in 2023, receiving the prestigious IIOTY 2023 award.\n",
      "\n",
      "- **2021**: *Exceeds Expectations*  \n",
      "  Maxine spearheaded the transition to a new data warehousing solution, significantly enhancing Insurellm’s data analytics capabilities. This major achievement bolstered her reputation within the company.  \n",
      "\n",
      "- **2022**: *Outstanding*  \n",
      "  Maxine continued her upward trajectory, successfully implementing machine learning algorithms to predict customer behavior, which was well-received by the leadership team and improved client satisfaction.  \n",
      "\n",
      "- **2023**: *Exceeds Expectations*  \n",
      "  Maxine has taken on mentoring responsibilities and is leading a cross-functional team for data governance initiatives, showcasing her leadership and solidifying her role at Insurellm.\n",
      "\n",
      "## Compensation History\n",
      "- **March 2018**: Initial salary of $80,000.\n",
      "- **July 2019**: Salary increased to $90,000 post-promotion.\n",
      "- **June 2021**: Salary raised to $105,000 after role transition.\n",
      "- **September 2022**: Salary adjustment to $120,000 due to increased responsibilities and performance.\n",
      "- **January 2023**: Revised salary of $125,000 in recognition of mentorship role.\n",
      "\n",
      "## Other HR Notes\n",
      "- Oliver enjoys a strong rapport with team members and is known for organizing regular team-building activities.\n",
      "- Participated in Insurellm’s Hackathon in 2022, where he led a project that won “Best Overall Solution.” \n",
      "- Pursuing AWS Certified Solutions Architect certification to enhance cloud skillset.\n",
      "- Has expressed interest in further leadership opportunities within Insurellm and may consider project management roles in the future.\n",
      "\n",
      "## Annual Performance History\n",
      "- **2018**: **3/5** - Adaptable team player but still learning to take initiative.\n",
      "- **2019**: **4/5** - Demonstrated strong problem-solving skills, outstanding contribution on the claims project.\n",
      "- **2020**: **2/5** - Struggled with time management; fell behind on deadlines during a high-traffic release period.\n",
      "- **2021**: **4/5** - Made a significant turnaround with organized work habits and successful project management.\n",
      "- **2022**: **5/5** - Exceptional performance during the \"Innovate\" initiative, showcasing leadership and creativity.\n",
      "- **2023**: **3/5** - Maintaining steady work; expectations for innovation not fully met, leading to discussions about goals.\n",
      "\n",
      "## Annual Performance History  \n",
      "- **2021**:  \n",
      "  - **Performance Rating**: 4.5/5  \n",
      "  - **Key Achievements**: Exceeded lead generation targets by 30%. Introduced a new CRM analytics tool resulting in improved tracking of customer interactions.  \n",
      "\n",
      "- **2022**:  \n",
      "  - **Performance Rating**: 4.8/5  \n",
      "  - **Key Achievements**: Awarded \"SDR of the Year\" for outstanding contributions. Instrumental in securing 15 new B2B contracts, surpassing targets by 40%.  \n",
      "\n",
      "- **2023**:  \n",
      "  - **Performance Rating**: 4.7/5  \n",
      "  - **Key Achievements**: Played a key role in the launch of a new product line with a 25% increase in lead-to-conversion rates. Completed advanced sales negotiation training with high marks.  \n",
      "\n",
      "## Compensation History  \n",
      "- **2021**:  \n",
      "  - **Base Salary**: $55,000  \n",
      "  - **Bonus**: $5,500 (10% of base due to performance)  \n",
      "\n",
      "- **2022**:  \n",
      "  - **Base Salary**: $65,000 (Promotion to Senior SDR)  \n",
      "  - **Bonus**: $13,000 (20% of base due to performance)\n",
      "\n",
      "- **2022**:  \n",
      "  - **Base Salary**: $65,000 (Promotion to Senior SDR)  \n",
      "  - **Bonus**: $13,000 (20% of base due to performance)  \n",
      "\n",
      "- **2023**:  \n",
      "  - **Base Salary**: $75,000  \n",
      "  - **Bonus**: $15,000 (20% of base)  \n",
      "\n",
      "## Other HR Notes  \n",
      "- **Training Completed**:  \n",
      "  - CRM Analytics & Data Management Workshop (2021)  \n",
      "  - Leadership Training Program (2022)  \n",
      "  - Advanced Sales Negotiation Course (2023)  \n",
      "\n",
      "- **Awards**:  \n",
      "  - Insurellm \"SDR of the Year\" Award (2022)  \n",
      "  - Monthly MVP Recognition (3 times in 2023)  \n",
      "\n",
      "- **Interests**:  \n",
      "  - In Alex's spare time, they enjoy participating in community volunteer programs, particularly those focused on financial literacy.  \n",
      "  - Alex is also an avid runner and has participated in several charity marathons.  \n",
      "\n",
      "- **Feedback from HR**:  \n",
      "  - Alex Harper is noted for their work ethic, positive attitude, and willingness to go above and beyond for both clients and colleagues. Recognized for fostering a team spirit within the SDR team.\n",
      "\n",
      "## Annual Performance History  \n",
      "- **2022** - Rated as \"Exceeds Expectations.\" Alex Thomson achieved 150% of the sales target within the first three months.  \n",
      "- **2023** - Rated \"Outstanding.\" Recognized for innovative lead-generation tactics which contributed to a 30% increase in qualified leads for the sales team.  \n",
      "\n",
      "### Highlights:\n",
      "- Consistently maintained a 30-minute response time to inbound leads.\n",
      "- Successfully coordinated webinars for product launches, which attracted over 2,000 potential customers.\n",
      "\n",
      "## Compensation History\n",
      "- **2022**: Base Salary - $55,000 | Bonus - $5,000  \n",
      "- **2023**: Base Salary - $65,000 | Bonus - $10,000 (for exceeding sales targets and exceptional teamwork)  \n",
      "- **Projected for 2024**: Anticipated salary increase due to Alex Thomson's significant contributions and successful completion of leadership training.\n",
      "\n",
      "# HR Record\n",
      "\n",
      "# Alex Chen\n",
      "\n",
      "## Summary\n",
      "- **Date of Birth:** March 15, 1990  \n",
      "- **Job Title:** Backend Software Engineer  \n",
      "- **Location:** San Francisco, California  \n",
      "\n",
      "## Insurellm Career Progression\n",
      "- **April 2020:** Joined Insurellm as a Junior Backend Developer. Focused on building APIs to enhance customer data security.\n",
      "- **October 2021:** Promoted to Backend Software Engineer. Took on leadership for a key project developing a microservices architecture to support the company's growing platform.\n",
      "- **March 2023:** Awarded the title of Senior Backend Software Engineer due to exemplary performance in scaling backend services, reducing downtime by 30% over six months.\n",
      "\n",
      "## Annual Performance History\n",
      "- **2020:**  \n",
      "  - Completed onboarding successfully.  \n",
      "  - Met expectations in delivering project milestones.  \n",
      "  - Received positive feedback from the team leads.\n",
      "\n",
      "- **2022**: **Satisfactory**  \n",
      "  Avery focused on rebuilding team dynamics and addressing employee concerns, leading to overall improvement despite a saturated market.  \n",
      "\n",
      "- **2023**: **Exceeds Expectations**  \n",
      "  Market leadership was regained with innovative approaches to personalized insurance solutions. Avery is now recognized in industry publications as a leading voice in Insurance Tech innovation.\n",
      "\n",
      "## Compensation History\n",
      "- **2023:** Base Salary: $115,000 + Bonus: $15,000  \n",
      "  *Annual bonus based on successful project completions and performance metrics.*\n",
      "\n",
      "- **2022:** Base Salary: $110,000 + Bonus: $10,000  \n",
      "  *Slight decrease in bonus due to performance challenges during the year.*\n",
      "\n",
      "- **2021:** Base Salary: $105,000 + Bonus: $12,000  \n",
      "  *Merit-based increase, reflecting consistent contributions to the data science team.*\n",
      "\n",
      "- **2020:** Base Salary: $100,000 + Bonus: $8,000  \n",
      "  *Initial compensation as Senior Data Scientist, with a focus on building rapport with cross-functional teams.*\n",
      "\n",
      "## Other HR Notes\n",
      "- **Professional Development:** Completed several workshops on machine learning and AI applications in insurance. Currently pursuing an online certification in deep learning.\n",
      "\n",
      "- **Engagement in Company Culture:** Regularly participates in team-building events and contributes to the internal newsletter, sharing insights on data science trends.\n",
      "\n",
      "- **January 2017 - May 2018**: Marketing Intern  \n",
      "  - Supported the Marketing team by collaborating on content creation and digital advertising projects.\n",
      "  - Gained hands-on experience with marketing automation tools, enriching her skillset for her role in Insurellm.\n",
      "\n",
      "---\n",
      "\n",
      "## Annual Performance History\n",
      "- **2023**:  \n",
      "  - Performance Rating: Exceeds Expectations  \n",
      "  - Key Achievements: Led the \"Tech the Halls\" campaign that resulted in a 50% increase in leads during the holiday season. \n",
      "  - Emily Tran's innovative strategies and attention to detail have made her stand out among her peers.\n",
      "\n",
      "- **2022**:  \n",
      "  - Performance Rating: Meets Expectations  \n",
      "  - Key Achievements: Enhanced Insurellm's email marketing strategy, achieving a 25% open rate increase.\n",
      "\n",
      "- **2021**:  \n",
      "  - Performance Rating: Meets Expectations  \n",
      "  - Key Achievements: Contributed to the launch of a customer referral program that resulted in a 15% growth in B2C customers.\n",
      "\n",
      "---\n",
      "\n",
      "## Compensation History\n",
      "- **2017**: $70,000 (Junior Data Engineer)  \n",
      "- **2018**: $75,000 (Junior Data Engineer)  \n",
      "- **2019**: $80,000 (Data Engineer)  \n",
      "- **2020**: $84,000 (Data Engineer)  \n",
      "- **2021**: $95,000 (Senior Data Engineer)  \n",
      "- **2022**: $110,000 (Senior Data Engineer)  \n",
      "- **2023**: $120,000 (Senior Data Engineer)  \n",
      "\n",
      "## Other HR Notes\n",
      "- Maxine participated in various company-sponsored trainings related to big data technologies and cloud infrastructure.  \n",
      "- She was recognized for her contributions with the “Insurellm Innovator Award” in 2022.  \n",
      "- Maxine is currently involved in the women-in-tech initiative and participates in mentorship programs to guide junior employees.  \n",
      "- Future development areas include improving her stakeholder communication skills to ensure smoother project transitions and collaboration.\n",
      "\n",
      "- **2017-2019:** Marketing Intern  \n",
      "  - Assisted with market research and campaign development for social media outreach.  \n",
      "  - Achievements:  \n",
      "    - Contributed ideas for a social media campaign that increased brand awareness by 40% within 6 months.  \n",
      "\n",
      "## Annual Performance History\n",
      "| Year | Performance Rating | Key Highlights |\n",
      "|------|--------------------|----------------|\n",
      "| 2023 | 4.8/5              | Recognized for exceptional client feedback and teamwork during product launches. |\n",
      "| 2022 | 4.5/5              | Led a successful cross-selling initiative that boosted revenue in existing accounts. |\n",
      "| 2021 | 4.2/5              | Successfully onboarded new clients and established strong relationships that resulted in renewals. |\n",
      "\n",
      "- **2023:** Base Salary - $70,000  \n",
      "  Recognized for substantial improvement in employee relations management and contributions to company culture, leading to a well-deserved increase.\n",
      "\n",
      "## Other HR Notes\n",
      "- Samantha Greene has expressed interest in pursuing an HR certification (SHRM-CP) to further her career growth within Insurellm. \n",
      "- Participated in Insurellm's employee wellness program, promoting mental health resources among staff.\n",
      "- Actively volunteers with local nonprofits and encourages staff involvement in community outreach programs, enhancing Insurellm's corporate social responsibility initiatives. \n",
      "\n",
      "Samantha Greene is a valuable asset to Insurellm, continuously working on professional development and contributing to a supportive workplace culture.\n",
      "\n",
      "# HR Record\n",
      "\n",
      "# Jordan K. Bishop\n",
      "\n",
      "## Summary\n",
      "- **Date of Birth:** March 15, 1990\n",
      "- **Job Title:** Frontend Software Engineer\n",
      "- **Location:** Austin, Texas\n",
      "\n",
      "## Insurellm Career Progression\n",
      "- **June 2018:** Hired as a Frontend Software Engineer.\n",
      "- **August 2019:** Promoted to Senior Frontend Software Engineer due to outstanding contributions to the Insurellm web application redesign project.\n",
      "- **March 2021:** Led a cross-functional team for the launch of Insurellm's customer portal, enhancing user experience and engagement.\n",
      "- **January 2022:** Transitioned to a mentorship role, where Jordan K. Bishop began training junior engineers, which affected the focus on personal projects.\n",
      "- **August 2023:** Returned to core development tasks but faced challenges adapting to new frameworks, leading to performance reviews reflecting a need for improvement.\n",
      "\n",
      "## Annual Performance History\n",
      "- **2021:** First year at Insurellm; achieved 90% of monthly targets.  \n",
      "  - **Feedback:** Strong potential shown in lead generation; needs improvement in follow-up techniques.  \n",
      "- **2022:** Achieved 120% of targets; pioneered outreach strategies that increased customer engagement.  \n",
      "  - **Feedback:** Jordan's innovative approach contributed significantly to team success; recommended for leadership training.  \n",
      "- **2023:** Set to exceed annual targets by 30% in Q3; initiated successful partnerships that broadened market reach.  \n",
      "  - **Feedback:** Exceptional communicator; exemplifies the values of Insurellm and promotes team collaboration.\n",
      "\n",
      "## Compensation History\n",
      "- **2021-06:** Starting Salary: $50,000  \n",
      "- **2022-04:** Merit-based increase: $55,000 (based on performance review)  \n",
      "- **2023-06:** Performance bonus awarded: $5,000 (for exceeding goals as recognized in annual review)  \n",
      "- **2023-09:** Salary adjustment due to promotion to Senior SDR: $65,000\n",
      "\n",
      "## Other HR Notes\n",
      "- Jordan K. Bishop has been an integral part of club initiatives, including the Insurellm Code Reviews and Feedback Group, providing peer support.\n",
      "- Active participant in the company's Diversity and Inclusion committee, promoting a positive work culture.\n",
      "- Jordan has expressed interest in professional development courses, particularly those focused on modern web technologies, which are being considered for sponsorship by Insurellm.\n",
      "- Engaged in a 6-month performance improvement plan as of August 2023, focusing on skill development and consistent performance monitoring. \n",
      "\n",
      "Jordan K. Bishop is a valued member of the Insurellm family, exhibiting a commitment to growth and development despite recent challenges.\n",
      "\n",
      "- **2010 - 2013**: Business Analyst at Edge Analytics  \n",
      "  Prior to joining Innovate, Avery worked as a Business Analyst, focusing on market trends and consumer preferences in the insurance space. This position laid the groundwork for Avery’s future entrepreneurial endeavors.\n",
      "\n",
      "## Annual Performance History\n",
      "- **2015**: **Exceeds Expectations**  \n",
      "  Avery’s leadership during Insurellm's foundational year led to successful product launches and securing initial funding.  \n",
      "\n",
      "- **2016**: **Meets Expectations**  \n",
      "  Growth continued, though challenges arose in operational efficiency that required Avery's attention.  \n",
      "\n",
      "- **2017**: **Developing**  \n",
      "  Market competition intensified, and monthly sales metrics were below targets. Avery implemented new strategies which required a steep learning curve.  \n",
      "\n",
      "- **2018**: **Exceeds Expectations**  \n",
      "  Under Avery’s pivoted vision, Insurellm launched two new successful products that significantly increased market share.\n",
      "\n",
      "## Compensation History\n",
      "- **June 2018:** Starting Salary - $85,000\n",
      "- **June 2019:** Salary Increase - $95,000 (Promotion to Senior Engineer)\n",
      "- **June 2021:** Salary Increase - $105,000 with bonus for project leadership.\n",
      "- **June 2022:** Salary Freeze due to company budget adjustments.\n",
      "- **June 2023:** Salary Adjustment - $92,000 after performance review; adjustments made in consideration of recent struggles with adaptation.\n",
      "\n",
      "# Avery Lancaster\n",
      "\n",
      "## Summary\n",
      "- **Date of Birth**: March 15, 1985  \n",
      "- **Job Title**: Co-Founder & Chief Executive Officer (CEO)  \n",
      "- **Location**: San Francisco, California  \n",
      "\n",
      "## Insurellm Career Progression\n",
      "- **2015 - Present**: Co-Founder & CEO  \n",
      "  Avery Lancaster co-founded Insurellm in 2015 and has since guided the company to its current position as a leading Insurance Tech provider. Avery is known for her innovative leadership strategies and risk management expertise that have catapulted the company into the mainstream insurance market.  \n",
      "\n",
      "- **2013 - 2015**: Senior Product Manager at Innovate Insurance Solutions  \n",
      "  Before launching Insurellm, Avery was a leading Senior Product Manager at Innovate Insurance Solutions, where she developed groundbreaking insurance products aimed at the tech sector.\n",
      "\n",
      "# HR Record\n",
      "\n",
      "# Jordan Blake\n",
      "\n",
      "## Summary\n",
      "- **Date of Birth:** March 15, 1993  \n",
      "- **Job Title:** Sales Development Representative (SDR)  \n",
      "- **Location:** Austin, Texas  \n",
      "\n",
      "## Insurellm Career Progression\n",
      "- **2021-06:** Joined Insurellm as an Entry-Level SDR  \n",
      "- **2022-02:** Promoted to Junior SDR after exceeding quarterly targets by 25%  \n",
      "- **2022-12:** Recognized as SDR of the Month for three consecutive months  \n",
      "- **2023-05:** Participated in the Insurellm Leadership Training Program\n",
      "Human: Who received the prestigious IIOTY award in 2023?\u001b[0m\n",
      "\n",
      "\u001b[1m> Finished chain.\u001b[0m\n",
      "\n",
      "\u001b[1m> Finished chain.\u001b[0m\n",
      "\n",
      "\u001b[1m> Finished chain.\u001b[0m\n",
      "\n",
      "Answer: Maxine received the prestigious IIOTY (Insurellm Innovator of the Year) award in 2023.\n"
     ]
    }
   ],
   "source": [
    "memory=ConversationBufferMemory(memory_key='chat_history', return_messages=True)\n",
    "retriever=vectorstore.as_retriever(search_kwargs={\"k\":25})\n",
    "conversation_chain=ConversationalRetrievalChain.from_llm(llm=llm, retriever=retriever, memory=memory,\n",
    "                                                        callbacks=[StdOutCallbackHandler()])\n",
    "\n",
    "query=\"Who received the prestigious IIOTY award in 2023?\"\n",
    "result=conversation_chain.invoke({\"question\": query})\n",
    "answer=result['answer']\n",
    "print('\\nAnswer:', answer)"
   ]
  },
  {
   "cell_type": "code",
   "execution_count": null,
   "metadata": {},
   "outputs": [],
   "source": []
  },
  {
   "cell_type": "code",
   "execution_count": null,
   "metadata": {},
   "outputs": [],
   "source": []
  },
  {
   "cell_type": "code",
   "execution_count": null,
   "metadata": {},
   "outputs": [],
   "source": []
  },
  {
   "cell_type": "code",
   "execution_count": null,
   "metadata": {},
   "outputs": [],
   "source": []
  }
 ],
 "metadata": {
  "kernelspec": {
   "display_name": ".venv",
   "language": "python",
   "name": "python3"
  },
  "language_info": {
   "codemirror_mode": {
    "name": "ipython",
    "version": 3
   },
   "file_extension": ".py",
   "mimetype": "text/x-python",
   "name": "python",
   "nbconvert_exporter": "python",
   "pygments_lexer": "ipython3",
   "version": "3.12.3"
  }
 },
 "nbformat": 4,
 "nbformat_minor": 2
}
