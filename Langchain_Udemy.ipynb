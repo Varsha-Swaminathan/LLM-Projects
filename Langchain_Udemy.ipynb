{
 "cells": [
  {
   "cell_type": "code",
   "execution_count": 11,
   "metadata": {},
   "outputs": [
    {
     "data": {
      "text/plain": [
       "True"
      ]
     },
     "execution_count": 11,
     "metadata": {},
     "output_type": "execute_result"
    }
   ],
   "source": [
    "from langchain_groq import ChatGroq\n",
    "from langchain.prompts import PromptTemplate\n",
    "from langchain.chains import LLMChain\n",
    "from dotenv import load_dotenv\n",
    "load_dotenv()"
   ]
  },
  {
   "cell_type": "code",
   "execution_count": 14,
   "metadata": {},
   "outputs": [],
   "source": [
    "# import argparse\n",
    "# parser=argparse.ArgumentParser()\n",
    "# parser.add_argument(\"--task\", default=\"Return a list of numbers\")\n",
    "# parser.add_argument(\"--language\", default=\"python\")\n",
    "# args=parser.parse_args()\n",
    "\n",
    "# below in this part of code: replace with args.parameters\n",
    "#     result=code_chain.invoke({\n",
    "#     \"language\":args.language,\n",
    "#     \"task\":args.task\n",
    "# })\n",
    "# result\n",
    "\n",
    "# I can use this in a .py file to run - python app.py --language javascript --task 'print hello'"
   ]
  },
  {
   "cell_type": "code",
   "execution_count": 20,
   "metadata": {},
   "outputs": [],
   "source": [
    "llm=ChatGroq(model='llama-3.1-70b-versatile')\n",
    "code_prompt=PromptTemplate(\n",
    "    template=\"Write a very short {language} function that will {task}\",\n",
    "    input_variables=[\"language\",\"task\"]\n",
    ")\n",
    "\n",
    "code_chain=LLMChain(\n",
    "    llm=llm,\n",
    "    prompt=code_prompt\n",
    ")"
   ]
  },
  {
   "cell_type": "code",
   "execution_count": 22,
   "metadata": {},
   "outputs": [
    {
     "data": {
      "text/plain": [
       "{'language': 'python',\n",
       " 'task': 'return a list of numbers',\n",
       " 'text': '### Function to Generate a List of Numbers\\n\\n```python\\ndef generate_numbers(start, end):\\n    \"\"\"\\n    Generate a list of numbers from start to end (inclusive).\\n\\n    Args:\\n        start (int): The starting number of the list.\\n        end (int): The ending number of the list.\\n\\n    Returns:\\n        list: A list of numbers from start to end.\\n    \"\"\"\\n    return list(range(start, end + 1))\\n\\n# Example usage:\\nnumbers = generate_numbers(1, 10)\\nprint(numbers)  # Output: [1, 2, 3, 4, 5, 6, 7, 8, 9, 10]\\n```\\n\\nThis function uses the built-in `range` function to generate a sequence of numbers from `start` to `end` (inclusive), and then converts it to a list.'}"
      ]
     },
     "execution_count": 22,
     "metadata": {},
     "output_type": "execute_result"
    }
   ],
   "source": [
    "result=code_chain.invoke({\n",
    "    \"language\":\"python\",\n",
    "    \"task\":\"return a list of numbers\"\n",
    "})\n",
    "result"
   ]
  },
  {
   "cell_type": "code",
   "execution_count": 23,
   "metadata": {},
   "outputs": [
    {
     "name": "stdout",
     "output_type": "stream",
     "text": [
      "### Function to Generate a List of Numbers\n",
      "\n",
      "```python\n",
      "def generate_numbers(start, end):\n",
      "    \"\"\"\n",
      "    Generate a list of numbers from start to end (inclusive).\n",
      "\n",
      "    Args:\n",
      "        start (int): The starting number of the list.\n",
      "        end (int): The ending number of the list.\n",
      "\n",
      "    Returns:\n",
      "        list: A list of numbers from start to end.\n",
      "    \"\"\"\n",
      "    return list(range(start, end + 1))\n",
      "\n",
      "# Example usage:\n",
      "numbers = generate_numbers(1, 10)\n",
      "print(numbers)  # Output: [1, 2, 3, 4, 5, 6, 7, 8, 9, 10]\n",
      "```\n",
      "\n",
      "This function uses the built-in `range` function to generate a sequence of numbers from `start` to `end` (inclusive), and then converts it to a list.\n"
     ]
    }
   ],
   "source": [
    "print(result['text'])"
   ]
  },
  {
   "cell_type": "code",
   "execution_count": 24,
   "metadata": {},
   "outputs": [
    {
     "data": {
      "text/plain": [
       "'### List of Numbers Function\\n\\nHere is a simple Python function that returns a list of numbers from 1 to `n`.\\n\\n```python\\ndef get_numbers(n):\\n    \"\"\"\\n    Returns a list of numbers from 1 to n.\\n\\n    Args:\\n        n (int): The maximum number in the list.\\n\\n    Returns:\\n        list: A list of numbers from 1 to n.\\n    \"\"\"\\n    return list(range(1, n + 1))\\n```\\n\\n### Example Use Case\\n\\n```python\\n# Get a list of numbers from 1 to 10\\nnumbers = get_numbers(10)\\nprint(numbers)  # Output: [1, 2, 3, 4, 5, 6, 7, 8, 9, 10]\\n```'"
      ]
     },
     "execution_count": 24,
     "metadata": {},
     "output_type": "execute_result"
    }
   ],
   "source": [
    "code_chain=LLMChain(\n",
    "    llm=llm,\n",
    "    prompt=code_prompt,\n",
    "    output_key=\"code\"\n",
    ")\n",
    "\n",
    "result=code_chain.invoke({\n",
    "    \"language\":\"python\",\n",
    "    \"task\":\"return a list of numbers\"\n",
    "})\n",
    "\n",
    "result['code'] # instead of result['text]"
   ]
  },
  {
   "cell_type": "markdown",
   "metadata": {},
   "source": [
    "# Sequential chain"
   ]
  },
  {
   "cell_type": "code",
   "execution_count": 26,
   "metadata": {},
   "outputs": [],
   "source": [
    "#second prompt in addition to previous prompt\n",
    "test_prompt=PromptTemplate(\n",
    "    input_variables=[\"language\",\"code\"],\n",
    "    template=\"Write a test for the following {language} code:\\n{code}\"\n",
    ")\n",
    "\n",
    "test_chain=LLMChain(llm=llm, prompt=test_prompt, output_key=\"test\")"
   ]
  },
  {
   "cell_type": "code",
   "execution_count": 27,
   "metadata": {},
   "outputs": [
    {
     "name": "stderr",
     "output_type": "stream",
     "text": [
      "C:\\Users\\varsh\\AppData\\Local\\Temp\\ipykernel_8848\\4273785881.py:9: LangChainDeprecationWarning: The method `Chain.__call__` was deprecated in langchain 0.1.0 and will be removed in 1.0. Use :meth:`~invoke` instead.\n",
      "  result=chain({\n"
     ]
    }
   ],
   "source": [
    "from langchain.chains import SequentialChain\n",
    "\n",
    "chain=SequentialChain(\n",
    "    chains=[code_chain, test_chain],\n",
    "    input_variables=[\"task\",\"language\"],\n",
    "    output_variables=[\"test\",\"code\"]\n",
    ")\n",
    "\n",
    "result=chain({\n",
    "    \"language\":\"python\",\n",
    "    \"task\":\"Write a program to add two numbers\"\n",
    "})"
   ]
  },
  {
   "cell_type": "code",
   "execution_count": 28,
   "metadata": {},
   "outputs": [
    {
     "data": {
      "text/plain": [
       "{'language': 'python',\n",
       " 'task': 'Write a program to add two numbers',\n",
       " 'test': '### Testing the `add_two_numbers` Function\\n\\nTo ensure the `add_two_numbers` function works correctly, we\\'ll write test cases using Python\\'s built-in `unittest` module. We\\'ll cover different scenarios, including:\\n\\n* Positive numbers\\n* Negative numbers\\n* Zero\\n* Edge cases (large numbers)\\n\\n```python\\nimport unittest\\n\\nclass TestAddTwoNumbers(unittest.TestCase):\\n    def test_positive_numbers(self):\\n        self.assertEqual(add_two_numbers(5, 7), 12)\\n        self.assertEqual(add_two_numbers(10, 3), 13)\\n\\n    def test_negative_numbers(self):\\n        self.assertEqual(add_two_numbers(-5, -7), -12)\\n        self.assertEqual(add_two_numbers(-10, -3), -13)\\n\\n    def test_mixed_numbers(self):\\n        self.assertEqual(add_two_numbers(-5, 7), 2)\\n        self.assertEqual(add_two_numbers(10, -3), 7)\\n\\n    def test_zero(self):\\n        self.assertEqual(add_two_numbers(0, 0), 0)\\n        self.assertEqual(add_two_numbers(5, 0), 5)\\n        self.assertEqual(add_two_numbers(0, 7), 7)\\n\\n    def test_large_numbers(self):\\n        self.assertEqual(add_two_numbers(1000000, 2000000), 3000000)\\n        self.assertEqual(add_two_numbers(-1000000, 2000000), 1000000)\\n\\n    def test_non_integer_input(self):\\n        with self.assertRaises(TypeError):\\n            add_two_numbers(5, \"hello\")\\n        with self.assertRaises(TypeError):\\n            add_two_numbers(\"hello\", 7)\\n\\nif __name__ == \\'__main__\\':\\n    unittest.main()\\n```\\n\\nIn this test suite, we cover various scenarios to ensure the `add_two_numbers` function behaves correctly. We also test for `TypeError` when non-integer inputs are passed to the function.\\n\\nNote: You can run these tests by saving both the original code and the test code in the same file, then running the file with Python.',\n",
       " 'code': '### Adding Two Numbers in Python\\n#### Function\\n\\n```python\\ndef add_two_numbers(num1, num2):\\n    \"\"\"\\n    Returns the sum of two numbers.\\n\\n    Args:\\n        num1 (int): The first number.\\n        num2 (int): The second number.\\n\\n    Returns:\\n        int: The sum of num1 and num2.\\n    \"\"\"\\n    return num1 + num2\\n```\\n\\n#### Example Use Case\\n\\n```python\\n# Call the function with two numbers\\nresult = add_two_numbers(5, 7)\\nprint(\"The sum is:\", result)  # Output: The sum is: 12\\n```\\n\\nThis function takes two integers as input and returns their sum. It\\'s a simple example of how to encapsulate a calculation in a reusable function.'}"
      ]
     },
     "execution_count": 28,
     "metadata": {},
     "output_type": "execute_result"
    }
   ],
   "source": [
    "result"
   ]
  },
  {
   "cell_type": "code",
   "execution_count": 29,
   "metadata": {},
   "outputs": [
    {
     "name": "stdout",
     "output_type": "stream",
     "text": [
      "### Adding Two Numbers in Python\n",
      "#### Function\n",
      "\n",
      "```python\n",
      "def add_two_numbers(num1, num2):\n",
      "    \"\"\"\n",
      "    Returns the sum of two numbers.\n",
      "\n",
      "    Args:\n",
      "        num1 (int): The first number.\n",
      "        num2 (int): The second number.\n",
      "\n",
      "    Returns:\n",
      "        int: The sum of num1 and num2.\n",
      "    \"\"\"\n",
      "    return num1 + num2\n",
      "```\n",
      "\n",
      "#### Example Use Case\n",
      "\n",
      "```python\n",
      "# Call the function with two numbers\n",
      "result = add_two_numbers(5, 7)\n",
      "print(\"The sum is:\", result)  # Output: The sum is: 12\n",
      "```\n",
      "\n",
      "This function takes two integers as input and returns their sum. It's a simple example of how to encapsulate a calculation in a reusable function.\n"
     ]
    }
   ],
   "source": [
    "print(result['code'])"
   ]
  },
  {
   "cell_type": "code",
   "execution_count": 30,
   "metadata": {},
   "outputs": [
    {
     "name": "stdout",
     "output_type": "stream",
     "text": [
      "### Testing the `add_two_numbers` Function\n",
      "\n",
      "To ensure the `add_two_numbers` function works correctly, we'll write test cases using Python's built-in `unittest` module. We'll cover different scenarios, including:\n",
      "\n",
      "* Positive numbers\n",
      "* Negative numbers\n",
      "* Zero\n",
      "* Edge cases (large numbers)\n",
      "\n",
      "```python\n",
      "import unittest\n",
      "\n",
      "class TestAddTwoNumbers(unittest.TestCase):\n",
      "    def test_positive_numbers(self):\n",
      "        self.assertEqual(add_two_numbers(5, 7), 12)\n",
      "        self.assertEqual(add_two_numbers(10, 3), 13)\n",
      "\n",
      "    def test_negative_numbers(self):\n",
      "        self.assertEqual(add_two_numbers(-5, -7), -12)\n",
      "        self.assertEqual(add_two_numbers(-10, -3), -13)\n",
      "\n",
      "    def test_mixed_numbers(self):\n",
      "        self.assertEqual(add_two_numbers(-5, 7), 2)\n",
      "        self.assertEqual(add_two_numbers(10, -3), 7)\n",
      "\n",
      "    def test_zero(self):\n",
      "        self.assertEqual(add_two_numbers(0, 0), 0)\n",
      "        self.assertEqual(add_two_numbers(5, 0), 5)\n",
      "        self.assertEqual(add_two_numbers(0, 7), 7)\n",
      "\n",
      "    def test_large_numbers(self):\n",
      "        self.assertEqual(add_two_numbers(1000000, 2000000), 3000000)\n",
      "        self.assertEqual(add_two_numbers(-1000000, 2000000), 1000000)\n",
      "\n",
      "    def test_non_integer_input(self):\n",
      "        with self.assertRaises(TypeError):\n",
      "            add_two_numbers(5, \"hello\")\n",
      "        with self.assertRaises(TypeError):\n",
      "            add_two_numbers(\"hello\", 7)\n",
      "\n",
      "if __name__ == '__main__':\n",
      "    unittest.main()\n",
      "```\n",
      "\n",
      "In this test suite, we cover various scenarios to ensure the `add_two_numbers` function behaves correctly. We also test for `TypeError` when non-integer inputs are passed to the function.\n",
      "\n",
      "Note: You can run these tests by saving both the original code and the test code in the same file, then running the file with Python.\n"
     ]
    }
   ],
   "source": [
    "print(result['test'])"
   ]
  },
  {
   "cell_type": "code",
   "execution_count": null,
   "metadata": {},
   "outputs": [],
   "source": []
  },
  {
   "cell_type": "code",
   "execution_count": null,
   "metadata": {},
   "outputs": [],
   "source": []
  },
  {
   "cell_type": "code",
   "execution_count": null,
   "metadata": {},
   "outputs": [],
   "source": []
  },
  {
   "cell_type": "code",
   "execution_count": null,
   "metadata": {},
   "outputs": [],
   "source": []
  },
  {
   "cell_type": "code",
   "execution_count": null,
   "metadata": {},
   "outputs": [],
   "source": []
  },
  {
   "cell_type": "code",
   "execution_count": null,
   "metadata": {},
   "outputs": [],
   "source": []
  },
  {
   "cell_type": "code",
   "execution_count": null,
   "metadata": {},
   "outputs": [],
   "source": []
  }
 ],
 "metadata": {
  "kernelspec": {
   "display_name": ".venv",
   "language": "python",
   "name": "python3"
  },
  "language_info": {
   "codemirror_mode": {
    "name": "ipython",
    "version": 3
   },
   "file_extension": ".py",
   "mimetype": "text/x-python",
   "name": "python",
   "nbconvert_exporter": "python",
   "pygments_lexer": "ipython3",
   "version": "3.12.3"
  }
 },
 "nbformat": 4,
 "nbformat_minor": 2
}
